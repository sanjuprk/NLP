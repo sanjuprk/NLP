{
 "cells": [
  {
   "cell_type": "code",
   "execution_count": 2,
   "metadata": {
    "collapsed": true
   },
   "outputs": [],
   "source": [
    "import pandas as pd\n",
    "pd.set_option('display.max_colwidth', -1)   "
   ]
  },
  {
   "cell_type": "markdown",
   "metadata": {},
   "source": [
    "## Suggestion UserVoice"
   ]
  },
  {
   "cell_type": "code",
   "execution_count": 3,
   "metadata": {
    "collapsed": false
   },
   "outputs": [
    {
     "data": {
      "text/html": [
       "<div>\n",
       "<table border=\"1\" class=\"dataframe\">\n",
       "  <thead>\n",
       "    <tr style=\"text-align: right;\">\n",
       "      <th></th>\n",
       "      <th>text</th>\n",
       "      <th>class</th>\n",
       "    </tr>\n",
       "  </thead>\n",
       "  <tbody>\n",
       "    <tr>\n",
       "      <th>0</th>\n",
       "      <td>Please enable removing language code from the Dev Center \"language history\" For example if you ever selected \"ru\" and \"ru-ru\" laguages and you published this xap to the Store then it causes Tile localization to show the en-us(default) tile localization which is bad.</td>\n",
       "      <td>1</td>\n",
       "    </tr>\n",
       "    <tr>\n",
       "      <th>1</th>\n",
       "      <td>Note: in your .csproj file, there is a SupportedCultures entry like this: &lt;SupportedCultures&gt;de-DE;ru;ru-RU &lt;/SupportedCultures&gt; When I removed the \"ru\" language code and published my new xap version, the old xap version still remains in the Store with \"Replaced and unpublished\".</td>\n",
       "      <td>0</td>\n",
       "    </tr>\n",
       "    <tr>\n",
       "      <th>2</th>\n",
       "      <td>Wich means the new version not fully replaced the old version and this causes me very serious problems: 1.</td>\n",
       "      <td>0</td>\n",
       "    </tr>\n",
       "    <tr>\n",
       "      <th>3</th>\n",
       "      <td>Some of my users will still receive the old xap version of my app.</td>\n",
       "      <td>0</td>\n",
       "    </tr>\n",
       "    <tr>\n",
       "      <th>4</th>\n",
       "      <td>The store randomly gives the old xap or the new xap version of my app.</td>\n",
       "      <td>0</td>\n",
       "    </tr>\n",
       "  </tbody>\n",
       "</table>\n",
       "</div>"
      ],
      "text/plain": [
       "                                                                                                                                                                                                                                                                                       text  \\\n",
       "0  Please enable removing language code from the Dev Center \"language history\" For example if you ever selected \"ru\" and \"ru-ru\" laguages and you published this xap to the Store then it causes Tile localization to show the en-us(default) tile localization which is bad.                 \n",
       "1  Note: in your .csproj file, there is a SupportedCultures entry like this: <SupportedCultures>de-DE;ru;ru-RU </SupportedCultures> When I removed the \"ru\" language code and published my new xap version, the old xap version still remains in the Store with \"Replaced and unpublished\".   \n",
       "2  Wich means the new version not fully replaced the old version and this causes me very serious problems: 1.                                                                                                                                                                                 \n",
       "3  Some of my users will still receive the old xap version of my app.                                                                                                                                                                                                                         \n",
       "4  The store randomly gives the old xap or the new xap version of my app.                                                                                                                                                                                                                     \n",
       "\n",
       "   class  \n",
       "0  1      \n",
       "1  0      \n",
       "2  0      \n",
       "3  0      \n",
       "4  0      "
      ]
     },
     "execution_count": 3,
     "metadata": {},
     "output_type": "execute_result"
    }
   ],
   "source": [
    "csv = pd.read_csv('suggForum_uservoice.csv')\n",
    "csv = csv.drop(['id'],axis = 1)\n",
    "csv.columns = ['text','class']\n",
    "csv.head()"
   ]
  },
  {
   "cell_type": "code",
   "execution_count": 4,
   "metadata": {
    "collapsed": false
   },
   "outputs": [
    {
     "data": {
      "text/html": [
       "<div>\n",
       "<table border=\"1\" class=\"dataframe\">\n",
       "  <thead>\n",
       "    <tr style=\"text-align: right;\">\n",
       "      <th></th>\n",
       "      <th>text</th>\n",
       "      <th>class</th>\n",
       "    </tr>\n",
       "  </thead>\n",
       "  <tbody>\n",
       "    <tr>\n",
       "      <th>5779</th>\n",
       "      <td>Please unify the Windows Phone (8 / Blue / 9) and Windows (8 / 8.1 / 9) development compleatly!</td>\n",
       "      <td>1</td>\n",
       "    </tr>\n",
       "    <tr>\n",
       "      <th>5780</th>\n",
       "      <td>It is good that you started this unification with the common core!</td>\n",
       "      <td>0</td>\n",
       "    </tr>\n",
       "    <tr>\n",
       "      <th>5781</th>\n",
       "      <td>But it should be common on all sense not just on general things, but also on UI XAML code!</td>\n",
       "      <td>0</td>\n",
       "    </tr>\n",
       "    <tr>\n",
       "      <th>5782</th>\n",
       "      <td>There are a lot of patterns out there and it is not too hard to think yourself a good/new design pattern which unify the UI development for example.</td>\n",
       "      <td>0</td>\n",
       "    </tr>\n",
       "    <tr>\n",
       "      <th>5783</th>\n",
       "      <td>It is ok that some things will be awailable on Windows 8/9 devices which are not available on Windows Phone 8 / 9 and vice versa.</td>\n",
       "      <td>0</td>\n",
       "    </tr>\n",
       "  </tbody>\n",
       "</table>\n",
       "</div>"
      ],
      "text/plain": [
       "                                                                                                                                                      text  \\\n",
       "5779  Please unify the Windows Phone (8 / Blue / 9) and Windows (8 / 8.1 / 9) development compleatly!                                                        \n",
       "5780  It is good that you started this unification with the common core!                                                                                     \n",
       "5781  But it should be common on all sense not just on general things, but also on UI XAML code!                                                             \n",
       "5782  There are a lot of patterns out there and it is not too hard to think yourself a good/new design pattern which unify the UI development for example.   \n",
       "5783  It is ok that some things will be awailable on Windows 8/9 devices which are not available on Windows Phone 8 / 9 and vice versa.                      \n",
       "\n",
       "      class  \n",
       "5779  1      \n",
       "5780  0      \n",
       "5781  0      \n",
       "5782  0      \n",
       "5783  0      "
      ]
     },
     "execution_count": 4,
     "metadata": {},
     "output_type": "execute_result"
    }
   ],
   "source": [
    "final = csv.copy()\n",
    "final.tail()"
   ]
  },
  {
   "cell_type": "markdown",
   "metadata": {},
   "source": [
    "## Microsoft Tweet Data"
   ]
  },
  {
   "cell_type": "code",
   "execution_count": 5,
   "metadata": {
    "collapsed": false
   },
   "outputs": [
    {
     "data": {
      "text/html": [
       "<div>\n",
       "<table border=\"1\" class=\"dataframe\">\n",
       "  <thead>\n",
       "    <tr style=\"text-align: right;\">\n",
       "      <th></th>\n",
       "      <th>text</th>\n",
       "      <th>class</th>\n",
       "    </tr>\n",
       "  </thead>\n",
       "  <tbody>\n",
       "    <tr>\n",
       "      <th>0</th>\n",
       "      <td>@manan Hahaha don't worry Microsoft will giveaway WP7 devices to all attendees. :D</td>\n",
       "      <td>0.0</td>\n",
       "    </tr>\n",
       "    <tr>\n",
       "      <th>1</th>\n",
       "      <td>RT @gsmarena_com: Windows Phone Marketplace expands, details about WP Tango emerge: Microsoft has been working hard in recent time... ht ...</td>\n",
       "      <td>0.0</td>\n",
       "    </tr>\n",
       "    <tr>\n",
       "      <th>2</th>\n",
       "      <td>@kirstenwright I switched to WP7 (Samsung Focus). I have to admit, Microsoft did a great job.</td>\n",
       "      <td>0.0</td>\n",
       "    </tr>\n",
       "    <tr>\n",
       "      <th>3</th>\n",
       "      <td>Just like the #USA caused the Real estate bubble, @Microsoft (an US company) now causes the #WP7 bubble. It kills thousands of jobs @Nokia!</td>\n",
       "      <td>0.0</td>\n",
       "    </tr>\n",
       "    <tr>\n",
       "      <th>4</th>\n",
       "      <td>I don't think Microsoft actually check apps for WP7 like Apple does bc I'm seeing alot of messed up apps on my WP7 marketplace.</td>\n",
       "      <td>0.0</td>\n",
       "    </tr>\n",
       "  </tbody>\n",
       "</table>\n",
       "</div>"
      ],
      "text/plain": [
       "                                                                                                                                           text  \\\n",
       "0  @manan Hahaha don't worry Microsoft will giveaway WP7 devices to all attendees. :D                                                             \n",
       "1  RT @gsmarena_com: Windows Phone Marketplace expands, details about WP Tango emerge: Microsoft has been working hard in recent time... ht ...   \n",
       "2  @kirstenwright I switched to WP7 (Samsung Focus). I have to admit, Microsoft did a great job.                                                  \n",
       "3  Just like the #USA caused the Real estate bubble, @Microsoft (an US company) now causes the #WP7 bubble. It kills thousands of jobs @Nokia!    \n",
       "4  I don't think Microsoft actually check apps for WP7 like Apple does bc I'm seeing alot of messed up apps on my WP7 marketplace.                \n",
       "\n",
       "   class  \n",
       "0  0.0    \n",
       "1  0.0    \n",
       "2  0.0    \n",
       "3  0.0    \n",
       "4  0.0    "
      ]
     },
     "execution_count": 5,
     "metadata": {},
     "output_type": "execute_result"
    }
   ],
   "source": [
    "mic = pd.read_table('../Desktop/suggestion_dataset/tweets.txt',names = ['text','class'])\n",
    "mic['class'] = mic['class'].fillna(0)\n",
    "mic.head()"
   ]
  },
  {
   "cell_type": "code",
   "execution_count": 6,
   "metadata": {
    "collapsed": false
   },
   "outputs": [
    {
     "data": {
      "text/html": [
       "<div>\n",
       "<table border=\"1\" class=\"dataframe\">\n",
       "  <thead>\n",
       "    <tr style=\"text-align: right;\">\n",
       "      <th></th>\n",
       "      <th>text</th>\n",
       "      <th>class</th>\n",
       "    </tr>\n",
       "  </thead>\n",
       "  <tbody>\n",
       "    <tr>\n",
       "      <th>8779</th>\n",
       "      <td>I'm getting this feeling that @Microsoft are not pushing #wp7 in the UK very well. No WP7 devices promoted in T-Mobile UK stores in Feb.</td>\n",
       "      <td>0.0</td>\n",
       "    </tr>\n",
       "    <tr>\n",
       "      <th>8780</th>\n",
       "      <td>Charlie Kindel from Microsoft tells about Windows Phone 7 strategy - rumours are that big WP7 news are coming 2011</td>\n",
       "      <td>0.0</td>\n",
       "    </tr>\n",
       "    <tr>\n",
       "      <th>8781</th>\n",
       "      <td>Hey Microsoft/Nokia, although the Lumia 900 looks great, #WindowsPhone7 won't matter unless it is on at&amp;t AND verizon. Quit failing.</td>\n",
       "      <td>1.0</td>\n",
       "    </tr>\n",
       "    <tr>\n",
       "      <th>8782</th>\n",
       "      <td>@PhoneDog Gotta say never really understood KIN. I do agree that it came way to late but hey with WP7 Microsoft is making a solid comeback.</td>\n",
       "      <td>0.0</td>\n",
       "    </tr>\n",
       "    <tr>\n",
       "      <th>8783</th>\n",
       "      <td>Come on @microsoft I want my #mangoupdate so excited for ringtones! #wp7</td>\n",
       "      <td>1.0</td>\n",
       "    </tr>\n",
       "  </tbody>\n",
       "</table>\n",
       "</div>"
      ],
      "text/plain": [
       "                                                                                                                                             text  \\\n",
       "8779  I'm getting this feeling that @Microsoft are not pushing #wp7 in the UK very well. No WP7 devices promoted in T-Mobile UK stores in Feb.      \n",
       "8780  Charlie Kindel from Microsoft tells about Windows Phone 7 strategy - rumours are that big WP7 news are coming 2011                            \n",
       "8781  Hey Microsoft/Nokia, although the Lumia 900 looks great, #WindowsPhone7 won't matter unless it is on at&t AND verizon. Quit failing.          \n",
       "8782  @PhoneDog Gotta say never really understood KIN. I do agree that it came way to late but hey with WP7 Microsoft is making a solid comeback.   \n",
       "8783  Come on @microsoft I want my #mangoupdate so excited for ringtones! #wp7                                                                      \n",
       "\n",
       "      class  \n",
       "8779  0.0    \n",
       "8780  0.0    \n",
       "8781  1.0    \n",
       "8782  0.0    \n",
       "8783  1.0    "
      ]
     },
     "execution_count": 6,
     "metadata": {},
     "output_type": "execute_result"
    }
   ],
   "source": [
    "final = final.append(mic,ignore_index=True)\n",
    "final.tail()"
   ]
  },
  {
   "cell_type": "markdown",
   "metadata": {},
   "source": [
    "## Electronics"
   ]
  },
  {
   "cell_type": "code",
   "execution_count": 7,
   "metadata": {
    "collapsed": false
   },
   "outputs": [
    {
     "data": {
      "text/html": [
       "<div>\n",
       "<table border=\"1\" class=\"dataframe\">\n",
       "  <thead>\n",
       "    <tr style=\"text-align: right;\">\n",
       "      <th></th>\n",
       "      <th>text</th>\n",
       "      <th>class</th>\n",
       "    </tr>\n",
       "  </thead>\n",
       "  <tbody>\n",
       "    <tr>\n",
       "      <th>3778</th>\n",
       "      <td>6 . the zen nx battery requires the ac adapter to recharge ; it does not charge by usb cable ; this is not tragic , but usb recharging would be a convenient ( additional ) choice .</td>\n",
       "      <td>0</td>\n",
       "    </tr>\n",
       "    <tr>\n",
       "      <th>3779</th>\n",
       "      <td>i would much more have preferred a keypad-type navigator like found on dvd remotes .</td>\n",
       "      <td>0</td>\n",
       "    </tr>\n",
       "    <tr>\n",
       "      <th>3780</th>\n",
       "      <td>the image quality is excellent .</td>\n",
       "      <td>0</td>\n",
       "    </tr>\n",
       "    <tr>\n",
       "      <th>3781</th>\n",
       "      <td>4 megapixels is plenty for all but pros , and you will not be disappointed with the results of this camera .</td>\n",
       "      <td>0</td>\n",
       "    </tr>\n",
       "    <tr>\n",
       "      <th>3782</th>\n",
       "      <td>the player itself has all sorts of problems .</td>\n",
       "      <td>0</td>\n",
       "    </tr>\n",
       "  </tbody>\n",
       "</table>\n",
       "</div>"
      ],
      "text/plain": [
       "                                                                                                                                                                                      text  \\\n",
       "3778  6 . the zen nx battery requires the ac adapter to recharge ; it does not charge by usb cable ; this is not tragic , but usb recharging would be a convenient ( additional ) choice .   \n",
       "3779  i would much more have preferred a keypad-type navigator like found on dvd remotes .                                                                                                   \n",
       "3780  the image quality is excellent .                                                                                                                                                       \n",
       "3781  4 megapixels is plenty for all but pros , and you will not be disappointed with the results of this camera .                                                                           \n",
       "3782  the player itself has all sorts of problems .                                                                                                                                          \n",
       "\n",
       "      class  \n",
       "3778  0      \n",
       "3779  0      \n",
       "3780  0      \n",
       "3781  0      \n",
       "3782  0      "
      ]
     },
     "execution_count": 7,
     "metadata": {},
     "output_type": "execute_result"
    }
   ],
   "source": [
    "elec = pd.read_table('../Desktop/suggestion_dataset/electronics.txt', names = ['text','class'])\n",
    "elec.tail()"
   ]
  },
  {
   "cell_type": "code",
   "execution_count": 42,
   "metadata": {
    "collapsed": false
   },
   "outputs": [
    {
     "data": {
      "text/plain": [
       "3       before you try to return the player or waste hours calling apex tech support , or run the player over with your car, try these simple troubleshooting ideas first .                                                                                                                                                     \n",
       "8       if this doesnt bring back the picture, try pressing this button without playing a dvd .                                                                                                                                                                                                                                 \n",
       "9       if you dont get video back , now you can run the player over with your car !                                                                                                                                                                                                                                            \n",
       "12      press the p/n button located on the bottom right corner of the remote .                                                                                                                                                                                                                                                 \n",
       "14      by pressing p/n , you should be able to get a good picture on the screen .                                                                                                                                                                                                                                              \n",
       "24      i would recommend buying one .                                                                                                                                                                                                                                                                                          \n",
       "41      if you 're a bargain hunter and you want a great feature set for a rock-bottom price , i highly recommend this model .                                                                                                                                                                                                  \n",
       "46      for the money , get a better quality player .                                                                                                                                                                                                                                                                           \n",
       "51      pass this player up , and never believe the reviews on a product right before christmas !                                                                                                                                                                                                                               \n",
       "57      this player is not worth any price and i recommend that you do n't purchase it .                                                                                                                                                                                                                                        \n",
       "84      save money on the long run - buy something decent once instead of buying cheap every month .                                                                                                                                                                                                                            \n",
       "102     while it seems like some people have had trouble with theirs , mine has run well , and i would recommend it if you are considering a dvd player purchase .                                                                                                                                                              \n",
       "103     any possible problems should be weighed against the bang-for-the-buck factor , along with the fact that companies like apex seldom have good after-sale support .                                                                                                                                                       \n",
       "113     do yourself a favor and save your money to get something of better quality , or at least works .                                                                                                                                                                                                                        \n",
       "123     fair warning - do not buy .                                                                                                                                                                                                                                                                                             \n",
       "124     i repeat - do n't waste your money .                                                                                                                                                                                                                                                                                    \n",
       "150     do not buy this player .                                                                                                                                                                                                                                                                                                \n",
       "165     get cheaper panasonics or toshibas or even sonys .                                                                                                                                                                                                                                                                      \n",
       "185     but for $ 49.99 go get one !                                                                                                                                                                                                                                                                                            \n",
       "209     pay a few more bucks and get something else - it 'll be worth it in the long run .                                                                                                                                                                                                                                      \n",
       "222     i do want to mention too that it is certainly worthwhile to read the instruction manual that comes with the unit .                                                                                                                                                                                                      \n",
       "224     so , if you read the instructions well , you should n't have any problems with this dvd unit .                                                                                                                                                                                                                          \n",
       "227     bottom line for me is that for the price i do n't think you can go wrong at all by purchasing this dvd player .                                                                                                                                                                                                         \n",
       "235     i would not hesitate to purchase this if you are uncertain of the brand name .                                                                                                                                                                                                                                          \n",
       "241     do n't waste your money .                                                                                                                                                                                                                                                                                               \n",
       "247     spend the money its well worth it .                                                                                                                                                                                                                                                                                     \n",
       "250     for those of you who has problems with this player , i 'd suggest checking the owners manual to get the right setting so that you are not displaying the wrong mode and have no picture , etc.                                                                                                                          \n",
       "310     you have to press the buttons hard and frequently i end up pressing enter when i meant to scroll .                                                                                                                                                                                                                      \n",
       "336     do not buy this product or any apex product unless you are looking to be frustrated and lose money !                                                                                                                                                                                                                    \n",
       "390     because of this , i am disappointed and would not recommend this product .                                                                                                                                                                                                                                              \n",
       "                                           ...                                                                                                                                                                                                                                                                                  \n",
       "3185    read the directions !                                                                                                                                                                                                                                                                                                   \n",
       "3190    buy this camera , you wo n't regret it .                                                                                                                                                                                                                                                                                \n",
       "3191    if you 're looking for a small , compact , super resolution digital camera , you can end your search with the nikon 4300 !                                                                                                                                                                                              \n",
       "3198    if you 're seeking that elusive state of photographic euphoria that is free of buyer 's remorse and filled with cool , then travel to the world of the coolpix 4300 !                                                                                                                                                   \n",
       "3207    if you have windows me you should upgrade to xp anyway , lol .                                                                                                                                                                                                                                                          \n",
       "3219    a card with more memory is a must .                                                                                                                                                                                                                                                                                     \n",
       "3254    just double check with customer service to ensure the number provided by amazon is for the city / exchange you wanted .                                                                                                                                                                                                 \n",
       "3261    the combination of the nokia 6610 and t-mobile service ( signal , price , service ) is a winner , i highly recommend it .                                                                                                                                                                                               \n",
       "3314    i highly recommend a nokia 6610 .                                                                                                                                                                                                                                                                                       \n",
       "3392    if you decide to go to another country for an extended period of time , you can just buy a sim card from a service provider in that country .                                                                                                                                                                           \n",
       "3404    overall , i highly recommend this phone .                                                                                                                                                                                                                                                                               \n",
       "3522    they are all free if you get a new account anyway , but stick to t-mobile if you are going to use your phone overseas because t-mobile actually allows you to unlock your simm cards so that you can buy simm cards cheap from other nations and plug into your phone when you are doing some international travelling .\n",
       "3528    here 's a hint : go to nokia.com and get their pc suite and a connection cable if you dont have irda or bluetooth .                                                                                                                                                                                                     \n",
       "3553    so , i recomend it , but not for those that have any hearing troubles , or for those that like to talk a lot in crowded public places ( which is annoying , by the way . )                                                                                                                                              \n",
       "3565    i highly recommend this phone to anyone .                                                                                                                                                                                                                                                                               \n",
       "3580    if you buy the stereo headset , you will enjoy it much more .                                                                                                                                                                                                                                                           \n",
       "3592    i can recommend this phone to anyone , anytime .                                                                                                                                                                                                                                                                        \n",
       "3651    this is probably your best bet if you are looking for a phone in this price range , or like me , do not have the patience to deal with annoying flip phones .                                                                                                                                                           \n",
       "3669    for those that are looking for camera phones just get the camera attachement and comes with the stereo headphones to listen to the radio in style .                                                                                                                                                                     \n",
       "3675    if you thought about getting this phone buy it .                                                                                                                                                                                                                                                                        \n",
       "3680    using the gprs option you can pay 19.99 extra a month and have unlimited internet access added to you account .                                                                                                                                                                                                         \n",
       "3713    if you can get this phone for cingular or at&t , go with the other carriers .                                                                                                                                                                                                                                           \n",
       "3747    this phone is highly recommended otherwise .                                                                                                                                                                                                                                                                            \n",
       "3756    bottom line , if you 're attracted to this phone because of its tri-band feature so you can take it abroad , forget it .                                                                                                                                                                                                \n",
       "3757    find another phone , or buy this one in its manufacturer-unlocked form .                                                                                                                                                                                                                                                \n",
       "3767    go for it ...                                                                                                                                                                                                                                                                                                           \n",
       "3771    i do recommend getting the data kit for those geeks .                                                                                                                                                                                                                                                                   \n",
       "3773    my only suggestion is to get a lens protector to help protect the shooting lens ( the lens coating will wear out after so many clean wipes ) and i 'm getting the those ( 52 mm adapter and uv lens filter ) at lensmateonline.com .                                                                                    \n",
       "3774    if you want a quality mp3 player , splurge on an ipod .                                                                                                                                                                                                                                                                 \n",
       "3776    i can highly recommend this product because of its ease of use ( hardware and software ) , playback quality and value for the price .                                                                                                                                                                                   \n",
       "Name: text, dtype: object"
      ]
     },
     "execution_count": 42,
     "metadata": {},
     "output_type": "execute_result"
    }
   ],
   "source": [
    "elec[elec['class'] == 1]['text']"
   ]
  },
  {
   "cell_type": "code",
   "execution_count": 8,
   "metadata": {
    "collapsed": false
   },
   "outputs": [
    {
     "data": {
      "text/html": [
       "<div>\n",
       "<table border=\"1\" class=\"dataframe\">\n",
       "  <thead>\n",
       "    <tr style=\"text-align: right;\">\n",
       "      <th></th>\n",
       "      <th>text</th>\n",
       "      <th>class</th>\n",
       "    </tr>\n",
       "  </thead>\n",
       "  <tbody>\n",
       "    <tr>\n",
       "      <th>12561</th>\n",
       "      <td>6 . the zen nx battery requires the ac adapter to recharge ; it does not charge by usb cable ; this is not tragic , but usb recharging would be a convenient ( additional ) choice .</td>\n",
       "      <td>0.0</td>\n",
       "    </tr>\n",
       "    <tr>\n",
       "      <th>12562</th>\n",
       "      <td>i would much more have preferred a keypad-type navigator like found on dvd remotes .</td>\n",
       "      <td>0.0</td>\n",
       "    </tr>\n",
       "    <tr>\n",
       "      <th>12563</th>\n",
       "      <td>the image quality is excellent .</td>\n",
       "      <td>0.0</td>\n",
       "    </tr>\n",
       "    <tr>\n",
       "      <th>12564</th>\n",
       "      <td>4 megapixels is plenty for all but pros , and you will not be disappointed with the results of this camera .</td>\n",
       "      <td>0.0</td>\n",
       "    </tr>\n",
       "    <tr>\n",
       "      <th>12565</th>\n",
       "      <td>the player itself has all sorts of problems .</td>\n",
       "      <td>0.0</td>\n",
       "    </tr>\n",
       "  </tbody>\n",
       "</table>\n",
       "</div>"
      ],
      "text/plain": [
       "                                                                                                                                                                                       text  \\\n",
       "12561  6 . the zen nx battery requires the ac adapter to recharge ; it does not charge by usb cable ; this is not tragic , but usb recharging would be a convenient ( additional ) choice .   \n",
       "12562  i would much more have preferred a keypad-type navigator like found on dvd remotes .                                                                                                   \n",
       "12563  the image quality is excellent .                                                                                                                                                       \n",
       "12564  4 megapixels is plenty for all but pros , and you will not be disappointed with the results of this camera .                                                                           \n",
       "12565  the player itself has all sorts of problems .                                                                                                                                          \n",
       "\n",
       "       class  \n",
       "12561  0.0    \n",
       "12562  0.0    \n",
       "12563  0.0    \n",
       "12564  0.0    \n",
       "12565  0.0    "
      ]
     },
     "execution_count": 8,
     "metadata": {},
     "output_type": "execute_result"
    }
   ],
   "source": [
    "final = final.append(elec,ignore_index=True)\n",
    "final.tail()"
   ]
  },
  {
   "cell_type": "markdown",
   "metadata": {},
   "source": [
    "## Hotels"
   ]
  },
  {
   "cell_type": "code",
   "execution_count": 9,
   "metadata": {
    "collapsed": false
   },
   "outputs": [
    {
     "data": {
      "text/html": [
       "<div>\n",
       "<table border=\"1\" class=\"dataframe\">\n",
       "  <thead>\n",
       "    <tr style=\"text-align: right;\">\n",
       "      <th></th>\n",
       "      <th>text</th>\n",
       "      <th>class</th>\n",
       "    </tr>\n",
       "  </thead>\n",
       "  <tbody>\n",
       "    <tr>\n",
       "      <th>berlin-hotel-190599-review-1.json_0</th>\n",
       "      <td>This hotel was very modern and sleek.</td>\n",
       "      <td>0</td>\n",
       "    </tr>\n",
       "    <tr>\n",
       "      <th>berlin-hotel-190599-review-1.json_1</th>\n",
       "      <td>Beautiful, well-laid out, albeiit small rooms.</td>\n",
       "      <td>0</td>\n",
       "    </tr>\n",
       "    <tr>\n",
       "      <th>berlin-hotel-190599-review-1.json_2</th>\n",
       "      <td>Fantastic breakfast with an incredible selection of meats, cheeses, yogurts, breads etc. And, as a non-German speaker,</td>\n",
       "      <td>0</td>\n",
       "    </tr>\n",
       "    <tr>\n",
       "      <th>berlin-hotel-190599-review-1.json_3</th>\n",
       "      <td>the staff were uber-helpful.</td>\n",
       "      <td>0</td>\n",
       "    </tr>\n",
       "    <tr>\n",
       "      <th>berlin-hotel-190599-review-1.json_4</th>\n",
       "      <td>Great location in front of a u-bahn stop.</td>\n",
       "      <td>0</td>\n",
       "    </tr>\n",
       "  </tbody>\n",
       "</table>\n",
       "</div>"
      ],
      "text/plain": [
       "                                                                                                                                                       text  \\\n",
       "berlin-hotel-190599-review-1.json_0  This hotel was very modern and sleek.                                                                                    \n",
       "berlin-hotel-190599-review-1.json_1  Beautiful, well-laid out, albeiit small rooms.                                                                           \n",
       "berlin-hotel-190599-review-1.json_2  Fantastic breakfast with an incredible selection of meats, cheeses, yogurts, breads etc. And, as a non-German speaker,   \n",
       "berlin-hotel-190599-review-1.json_3  the staff were uber-helpful.                                                                                             \n",
       "berlin-hotel-190599-review-1.json_4  Great location in front of a u-bahn stop.                                                                                \n",
       "\n",
       "                                     class  \n",
       "berlin-hotel-190599-review-1.json_0  0      \n",
       "berlin-hotel-190599-review-1.json_1  0      \n",
       "berlin-hotel-190599-review-1.json_2  0      \n",
       "berlin-hotel-190599-review-1.json_3  0      \n",
       "berlin-hotel-190599-review-1.json_4  0      "
      ]
     },
     "execution_count": 9,
     "metadata": {},
     "output_type": "execute_result"
    }
   ],
   "source": [
    "hotel = pd.read_table('../Desktop/suggestion_dataset/hotel.txt', names = ['text','class'])\n",
    "hotel.head()"
   ]
  },
  {
   "cell_type": "code",
   "execution_count": 10,
   "metadata": {
    "collapsed": false
   },
   "outputs": [
    {
     "data": {
      "text/html": [
       "<div>\n",
       "<table border=\"1\" class=\"dataframe\">\n",
       "  <thead>\n",
       "    <tr style=\"text-align: right;\">\n",
       "      <th></th>\n",
       "      <th>text</th>\n",
       "      <th>class</th>\n",
       "    </tr>\n",
       "  </thead>\n",
       "  <tbody>\n",
       "    <tr>\n",
       "      <th>0</th>\n",
       "      <td>This hotel was very modern and sleek.</td>\n",
       "      <td>0</td>\n",
       "    </tr>\n",
       "    <tr>\n",
       "      <th>1</th>\n",
       "      <td>Beautiful, well-laid out, albeiit small rooms.</td>\n",
       "      <td>0</td>\n",
       "    </tr>\n",
       "    <tr>\n",
       "      <th>2</th>\n",
       "      <td>Fantastic breakfast with an incredible selection of meats, cheeses, yogurts, breads etc. And, as a non-German speaker,</td>\n",
       "      <td>0</td>\n",
       "    </tr>\n",
       "    <tr>\n",
       "      <th>3</th>\n",
       "      <td>the staff were uber-helpful.</td>\n",
       "      <td>0</td>\n",
       "    </tr>\n",
       "    <tr>\n",
       "      <th>4</th>\n",
       "      <td>Great location in front of a u-bahn stop.</td>\n",
       "      <td>0</td>\n",
       "    </tr>\n",
       "  </tbody>\n",
       "</table>\n",
       "</div>"
      ],
      "text/plain": [
       "                                                                                                                     text  \\\n",
       "0  This hotel was very modern and sleek.                                                                                    \n",
       "1  Beautiful, well-laid out, albeiit small rooms.                                                                           \n",
       "2  Fantastic breakfast with an incredible selection of meats, cheeses, yogurts, breads etc. And, as a non-German speaker,   \n",
       "3  the staff were uber-helpful.                                                                                             \n",
       "4  Great location in front of a u-bahn stop.                                                                                \n",
       "\n",
       "   class  \n",
       "0  0      \n",
       "1  0      \n",
       "2  0      \n",
       "3  0      \n",
       "4  0      "
      ]
     },
     "execution_count": 10,
     "metadata": {},
     "output_type": "execute_result"
    }
   ],
   "source": [
    "hotel.reset_index(inplace = True)\n",
    "hotel = hotel.drop('index',axis = 1)\n",
    "hotel.head()"
   ]
  },
  {
   "cell_type": "code",
   "execution_count": 11,
   "metadata": {
    "collapsed": false
   },
   "outputs": [
    {
     "data": {
      "text/html": [
       "<div>\n",
       "<table border=\"1\" class=\"dataframe\">\n",
       "  <thead>\n",
       "    <tr style=\"text-align: right;\">\n",
       "      <th></th>\n",
       "      <th>text</th>\n",
       "      <th>class</th>\n",
       "    </tr>\n",
       "  </thead>\n",
       "  <tbody>\n",
       "    <tr>\n",
       "      <th>20095</th>\n",
       "      <td>Beware as in the trip info it says that you can go snorkling but no gear is provided so if you want to snorkle take you own gear.</td>\n",
       "      <td>1.0</td>\n",
       "    </tr>\n",
       "    <tr>\n",
       "      <th>20096</th>\n",
       "      <td>For the elderly or overweight it is a task to get in and out of speed boat.</td>\n",
       "      <td>0.0</td>\n",
       "    </tr>\n",
       "    <tr>\n",
       "      <th>20097</th>\n",
       "      <td>The trip was definately worthwhile.</td>\n",
       "      <td>0.0</td>\n",
       "    </tr>\n",
       "    <tr>\n",
       "      <th>20098</th>\n",
       "      <td>Just a few tips.</td>\n",
       "      <td>0.0</td>\n",
       "    </tr>\n",
       "    <tr>\n",
       "      <th>20099</th>\n",
       "      <td>you dont need a blow dryer one is provided, if you want to buy rum and cigars either get them at the Hotel or go to the factory.</td>\n",
       "      <td>1.0</td>\n",
       "    </tr>\n",
       "  </tbody>\n",
       "</table>\n",
       "</div>"
      ],
      "text/plain": [
       "                                                                                                                                    text  \\\n",
       "20095  Beware as in the trip info it says that you can go snorkling but no gear is provided so if you want to snorkle take you own gear.   \n",
       "20096  For the elderly or overweight it is a task to get in and out of speed boat.                                                         \n",
       "20097  The trip was definately worthwhile.                                                                                                 \n",
       "20098  Just a few tips.                                                                                                                    \n",
       "20099  you dont need a blow dryer one is provided, if you want to buy rum and cigars either get them at the Hotel or go to the factory.    \n",
       "\n",
       "       class  \n",
       "20095  1.0    \n",
       "20096  0.0    \n",
       "20097  0.0    \n",
       "20098  0.0    \n",
       "20099  1.0    "
      ]
     },
     "execution_count": 11,
     "metadata": {},
     "output_type": "execute_result"
    }
   ],
   "source": [
    "final = final.append(hotel,ignore_index=True)\n",
    "final.tail()"
   ]
  },
  {
   "cell_type": "markdown",
   "metadata": {},
   "source": [
    "## SugHash"
   ]
  },
  {
   "cell_type": "code",
   "execution_count": 12,
   "metadata": {
    "collapsed": false
   },
   "outputs": [
    {
     "data": {
      "text/html": [
       "<div>\n",
       "<table border=\"1\" class=\"dataframe\">\n",
       "  <thead>\n",
       "    <tr style=\"text-align: right;\">\n",
       "      <th></th>\n",
       "      <th>id</th>\n",
       "      <th>text</th>\n",
       "      <th>class</th>\n",
       "    </tr>\n",
       "  </thead>\n",
       "  <tbody>\n",
       "    <tr>\n",
       "      <th>0</th>\n",
       "      <td>id</td>\n",
       "      <td>text</td>\n",
       "      <td>expert label</td>\n",
       "    </tr>\n",
       "    <tr>\n",
       "      <th>1</th>\n",
       "      <td>6.90E+17</td>\n",
       "      <td>Advice to consider: Hand Exercises for Knitters, Crocheters, and other Handcrafters with Col... https://t.co/pkV4zXUc3S via @YouTube</td>\n",
       "      <td>1</td>\n",
       "    </tr>\n",
       "    <tr>\n",
       "      <th>2</th>\n",
       "      <td>6.90E+17</td>\n",
       "      <td>R: did Minhyuk give you any advice\\rHW: nope I prepared everything myself</td>\n",
       "      <td>0</td>\n",
       "    </tr>\n",
       "    <tr>\n",
       "      <th>3</th>\n",
       "      <td>6.90E+17</td>\n",
       "      <td>RT https://t.co/Je3cRDneKu Start 'Em, Sit 'Em Week 7: Live Fantasy Football Mailbag and Lineup Advice _ʹ_ https://t.co/3RyRvBOOZX</td>\n",
       "      <td>0</td>\n",
       "    </tr>\n",
       "    <tr>\n",
       "      <th>4</th>\n",
       "      <td>6.90E+17</td>\n",
       "      <td>RT @kxngde123: Best advice for 2016 : LET THAT SHIT GO_�_�_��</td>\n",
       "      <td>0</td>\n",
       "    </tr>\n",
       "  </tbody>\n",
       "</table>\n",
       "</div>"
      ],
      "text/plain": [
       "         id  \\\n",
       "0  id         \n",
       "1  6.90E+17   \n",
       "2  6.90E+17   \n",
       "3  6.90E+17   \n",
       "4  6.90E+17   \n",
       "\n",
       "                                                                                                                                   text  \\\n",
       "0  text                                                                                                                                   \n",
       "1  Advice to consider: Hand Exercises for Knitters, Crocheters, and other Handcrafters with Col... https://t.co/pkV4zXUc3S via @YouTube   \n",
       "2  R: did Minhyuk give you any advice\\rHW: nope I prepared everything myself                                                              \n",
       "3  RT https://t.co/Je3cRDneKu Start 'Em, Sit 'Em Week 7: Live Fantasy Football Mailbag and Lineup Advice _ʹ_ https://t.co/3RyRvBOOZX      \n",
       "4  RT @kxngde123: Best advice for 2016 : LET THAT SHIT GO_�_�_��                                                                          \n",
       "\n",
       "          class  \n",
       "0  expert label  \n",
       "1  1             \n",
       "2  0             \n",
       "3  0             \n",
       "4  0             "
      ]
     },
     "execution_count": 12,
     "metadata": {},
     "output_type": "execute_result"
    }
   ],
   "source": [
    "sugt = pd.read_csv('../Desktop/suggestion_dataset/SuggHashtagTweets.csv',names = ['id','text','class'])\n",
    "sugt.head()"
   ]
  },
  {
   "cell_type": "code",
   "execution_count": 13,
   "metadata": {
    "collapsed": false
   },
   "outputs": [
    {
     "data": {
      "text/html": [
       "<div>\n",
       "<table border=\"1\" class=\"dataframe\">\n",
       "  <thead>\n",
       "    <tr style=\"text-align: right;\">\n",
       "      <th></th>\n",
       "      <th>index</th>\n",
       "      <th>id</th>\n",
       "      <th>text</th>\n",
       "      <th>class</th>\n",
       "    </tr>\n",
       "  </thead>\n",
       "  <tbody>\n",
       "    <tr>\n",
       "      <th>0</th>\n",
       "      <td>1</td>\n",
       "      <td>6.90E+17</td>\n",
       "      <td>Advice to consider: Hand Exercises for Knitters, Crocheters, and other Handcrafters with Col... https://t.co/pkV4zXUc3S via @YouTube</td>\n",
       "      <td>1</td>\n",
       "    </tr>\n",
       "    <tr>\n",
       "      <th>1</th>\n",
       "      <td>2</td>\n",
       "      <td>6.90E+17</td>\n",
       "      <td>R: did Minhyuk give you any advice\\rHW: nope I prepared everything myself</td>\n",
       "      <td>0</td>\n",
       "    </tr>\n",
       "    <tr>\n",
       "      <th>2</th>\n",
       "      <td>3</td>\n",
       "      <td>6.90E+17</td>\n",
       "      <td>RT https://t.co/Je3cRDneKu Start 'Em, Sit 'Em Week 7: Live Fantasy Football Mailbag and Lineup Advice _ʹ_ https://t.co/3RyRvBOOZX</td>\n",
       "      <td>0</td>\n",
       "    </tr>\n",
       "    <tr>\n",
       "      <th>3</th>\n",
       "      <td>4</td>\n",
       "      <td>6.90E+17</td>\n",
       "      <td>RT @kxngde123: Best advice for 2016 : LET THAT SHIT GO_�_�_��</td>\n",
       "      <td>0</td>\n",
       "    </tr>\n",
       "    <tr>\n",
       "      <th>4</th>\n",
       "      <td>5</td>\n",
       "      <td>6.90E+17</td>\n",
       "      <td>RT @Sam1963: It must be on the advice of state weatherman? Does New Jersey have one too? https://t.co/7KPztfTeQH</td>\n",
       "      <td>0</td>\n",
       "    </tr>\n",
       "  </tbody>\n",
       "</table>\n",
       "</div>"
      ],
      "text/plain": [
       "   index        id  \\\n",
       "0  1      6.90E+17   \n",
       "1  2      6.90E+17   \n",
       "2  3      6.90E+17   \n",
       "3  4      6.90E+17   \n",
       "4  5      6.90E+17   \n",
       "\n",
       "                                                                                                                                   text  \\\n",
       "0  Advice to consider: Hand Exercises for Knitters, Crocheters, and other Handcrafters with Col... https://t.co/pkV4zXUc3S via @YouTube   \n",
       "1  R: did Minhyuk give you any advice\\rHW: nope I prepared everything myself                                                              \n",
       "2  RT https://t.co/Je3cRDneKu Start 'Em, Sit 'Em Week 7: Live Fantasy Football Mailbag and Lineup Advice _ʹ_ https://t.co/3RyRvBOOZX      \n",
       "3  RT @kxngde123: Best advice for 2016 : LET THAT SHIT GO_�_�_��                                                                          \n",
       "4  RT @Sam1963: It must be on the advice of state weatherman? Does New Jersey have one too? https://t.co/7KPztfTeQH                       \n",
       "\n",
       "  class  \n",
       "0  1     \n",
       "1  0     \n",
       "2  0     \n",
       "3  0     \n",
       "4  0     "
      ]
     },
     "execution_count": 13,
     "metadata": {},
     "output_type": "execute_result"
    }
   ],
   "source": [
    "sugt = sugt.drop(sugt.index[0])\n",
    "sugt.reset_index(inplace=True)\n",
    "sugt.head()"
   ]
  },
  {
   "cell_type": "code",
   "execution_count": 14,
   "metadata": {
    "collapsed": false
   },
   "outputs": [
    {
     "data": {
      "text/html": [
       "<div>\n",
       "<table border=\"1\" class=\"dataframe\">\n",
       "  <thead>\n",
       "    <tr style=\"text-align: right;\">\n",
       "      <th></th>\n",
       "      <th>text</th>\n",
       "      <th>class</th>\n",
       "    </tr>\n",
       "  </thead>\n",
       "  <tbody>\n",
       "    <tr>\n",
       "      <th>0</th>\n",
       "      <td>Advice to consider: Hand Exercises for Knitters, Crocheters, and other Handcrafters with Col... https://t.co/pkV4zXUc3S via @YouTube</td>\n",
       "      <td>1</td>\n",
       "    </tr>\n",
       "    <tr>\n",
       "      <th>1</th>\n",
       "      <td>R: did Minhyuk give you any advice\\rHW: nope I prepared everything myself</td>\n",
       "      <td>0</td>\n",
       "    </tr>\n",
       "    <tr>\n",
       "      <th>2</th>\n",
       "      <td>RT https://t.co/Je3cRDneKu Start 'Em, Sit 'Em Week 7: Live Fantasy Football Mailbag and Lineup Advice _ʹ_ https://t.co/3RyRvBOOZX</td>\n",
       "      <td>0</td>\n",
       "    </tr>\n",
       "    <tr>\n",
       "      <th>3</th>\n",
       "      <td>RT @kxngde123: Best advice for 2016 : LET THAT SHIT GO_�_�_��</td>\n",
       "      <td>0</td>\n",
       "    </tr>\n",
       "    <tr>\n",
       "      <th>4</th>\n",
       "      <td>RT @Sam1963: It must be on the advice of state weatherman? Does New Jersey have one too? https://t.co/7KPztfTeQH</td>\n",
       "      <td>0</td>\n",
       "    </tr>\n",
       "  </tbody>\n",
       "</table>\n",
       "</div>"
      ],
      "text/plain": [
       "                                                                                                                                   text  \\\n",
       "0  Advice to consider: Hand Exercises for Knitters, Crocheters, and other Handcrafters with Col... https://t.co/pkV4zXUc3S via @YouTube   \n",
       "1  R: did Minhyuk give you any advice\\rHW: nope I prepared everything myself                                                              \n",
       "2  RT https://t.co/Je3cRDneKu Start 'Em, Sit 'Em Week 7: Live Fantasy Football Mailbag and Lineup Advice _ʹ_ https://t.co/3RyRvBOOZX      \n",
       "3  RT @kxngde123: Best advice for 2016 : LET THAT SHIT GO_�_�_��                                                                          \n",
       "4  RT @Sam1963: It must be on the advice of state weatherman? Does New Jersey have one too? https://t.co/7KPztfTeQH                       \n",
       "\n",
       "  class  \n",
       "0  1     \n",
       "1  0     \n",
       "2  0     \n",
       "3  0     \n",
       "4  0     "
      ]
     },
     "execution_count": 14,
     "metadata": {},
     "output_type": "execute_result"
    }
   ],
   "source": [
    "sugt = sugt.drop(['index','id'],axis = 1)\n",
    "sugt.head()"
   ]
  },
  {
   "cell_type": "code",
   "execution_count": 15,
   "metadata": {
    "collapsed": false
   },
   "outputs": [
    {
     "data": {
      "text/html": [
       "<div>\n",
       "<table border=\"1\" class=\"dataframe\">\n",
       "  <thead>\n",
       "    <tr style=\"text-align: right;\">\n",
       "      <th></th>\n",
       "      <th>text</th>\n",
       "      <th>class</th>\n",
       "    </tr>\n",
       "  </thead>\n",
       "  <tbody>\n",
       "    <tr>\n",
       "      <th>24194</th>\n",
       "      <td>RT @PriyaPa87172766: @RajBaddhan A humble request for Sidhant &amp;amp; Jasmin #Drivetime plz we all fan have been waitng for a long time https://t__�__</td>\n",
       "      <td>0</td>\n",
       "    </tr>\n",
       "    <tr>\n",
       "      <th>24195</th>\n",
       "      <td>RT @Adela_143: So this cute old man comes up to me and asks \"are you Italian\" and I said no I'm Arab and he's like I wish to have a cute da__�__</td>\n",
       "      <td>0</td>\n",
       "    </tr>\n",
       "    <tr>\n",
       "      <th>24196</th>\n",
       "      <td>RT @authorsreach: Warning! Sleep with the lights on after reading #occult #horror Father of Lies! https://t.co/go7kgSlzh5 #mustread https:/__�__</td>\n",
       "      <td>1</td>\n",
       "    </tr>\n",
       "    <tr>\n",
       "      <th>24197</th>\n",
       "      <td>Wish I was there for that shot https://t.co/0y3Qz45eCy</td>\n",
       "      <td>0</td>\n",
       "    </tr>\n",
       "    <tr>\n",
       "      <th>24198</th>\n",
       "      <td>@MarcusButler @Zoella before you wanted to be a youtuber, what did you wish to be as an adult?</td>\n",
       "      <td>0</td>\n",
       "    </tr>\n",
       "  </tbody>\n",
       "</table>\n",
       "</div>"
      ],
      "text/plain": [
       "                                                                                                                                                       text  \\\n",
       "24194  RT @PriyaPa87172766: @RajBaddhan A humble request for Sidhant &amp; Jasmin #Drivetime plz we all fan have been waitng for a long time https://t__�__   \n",
       "24195  RT @Adela_143: So this cute old man comes up to me and asks \"are you Italian\" and I said no I'm Arab and he's like I wish to have a cute da__�__       \n",
       "24196  RT @authorsreach: Warning! Sleep with the lights on after reading #occult #horror Father of Lies! https://t.co/go7kgSlzh5 #mustread https:/__�__       \n",
       "24197  Wish I was there for that shot https://t.co/0y3Qz45eCy                                                                                                 \n",
       "24198  @MarcusButler @Zoella before you wanted to be a youtuber, what did you wish to be as an adult?                                                         \n",
       "\n",
       "      class  \n",
       "24194  0     \n",
       "24195  0     \n",
       "24196  1     \n",
       "24197  0     \n",
       "24198  0     "
      ]
     },
     "execution_count": 15,
     "metadata": {},
     "output_type": "execute_result"
    }
   ],
   "source": [
    "final = final.append(sugt,ignore_index=True)\n",
    "final.tail()"
   ]
  },
  {
   "cell_type": "markdown",
   "metadata": {
    "collapsed": true
   },
   "source": [
    "## DataFrame Done"
   ]
  },
  {
   "cell_type": "code",
   "execution_count": 16,
   "metadata": {
    "collapsed": false
   },
   "outputs": [
    {
     "data": {
      "text/plain": [
       "0    20727\n",
       "1    3472 \n",
       "Name: class, dtype: int64"
      ]
     },
     "execution_count": 16,
     "metadata": {},
     "output_type": "execute_result"
    }
   ],
   "source": [
    "final['class'] = final['class'].astype('int64')\n",
    "final['class'].value_counts()"
   ]
  },
  {
   "cell_type": "code",
   "execution_count": 17,
   "metadata": {
    "collapsed": true
   },
   "outputs": [],
   "source": [
    "final.to_csv('sug_trainer.csv',index=False)"
   ]
  },
  {
   "cell_type": "markdown",
   "metadata": {},
   "source": [
    "## Rough Work"
   ]
  },
  {
   "cell_type": "code",
   "execution_count": 18,
   "metadata": {
    "collapsed": true
   },
   "outputs": [],
   "source": [
    "ruf = final.copy()"
   ]
  },
  {
   "cell_type": "code",
   "execution_count": 19,
   "metadata": {
    "collapsed": false
   },
   "outputs": [
    {
     "data": {
      "text/plain": [
       "0    20727\n",
       "1    3472 \n",
       "Name: class, dtype: int64"
      ]
     },
     "execution_count": 19,
     "metadata": {},
     "output_type": "execute_result"
    }
   ],
   "source": [
    "ruf['class'].value_counts()"
   ]
  },
  {
   "cell_type": "code",
   "execution_count": 20,
   "metadata": {
    "collapsed": false
   },
   "outputs": [
    {
     "data": {
      "text/html": [
       "<div>\n",
       "<table border=\"1\" class=\"dataframe\">\n",
       "  <thead>\n",
       "    <tr style=\"text-align: right;\">\n",
       "      <th></th>\n",
       "      <th>text</th>\n",
       "      <th>class</th>\n",
       "    </tr>\n",
       "  </thead>\n",
       "  <tbody>\n",
       "    <tr>\n",
       "      <th>0</th>\n",
       "      <td>take my words and give it a try .</td>\n",
       "      <td>1</td>\n",
       "    </tr>\n",
       "    <tr>\n",
       "      <th>1</th>\n",
       "      <td>i believe the napster mp3 player has this feature .</td>\n",
       "      <td>0</td>\n",
       "    </tr>\n",
       "    <tr>\n",
       "      <th>2</th>\n",
       "      <td>Our room ,1717, had a great view of the bay, Coit tower and the St. Peter Paul Church Spires.</td>\n",
       "      <td>0</td>\n",
       "    </tr>\n",
       "    <tr>\n",
       "      <th>3</th>\n",
       "      <td>I wish I was in my bed but this degree calling my name</td>\n",
       "      <td>0</td>\n",
       "    </tr>\n",
       "    <tr>\n",
       "      <th>4</th>\n",
       "      <td>if you want to listen to tunes while you travel , i 'd get a hard drive because you can put so much on the thing - including audio books .</td>\n",
       "      <td>1</td>\n",
       "    </tr>\n",
       "  </tbody>\n",
       "</table>\n",
       "</div>"
      ],
      "text/plain": [
       "                                                                                                                                         text  \\\n",
       "0  take my words and give it a try .                                                                                                            \n",
       "1  i believe the napster mp3 player has this feature .                                                                                          \n",
       "2  Our room ,1717, had a great view of the bay, Coit tower and the St. Peter Paul Church Spires.                                                \n",
       "3  I wish I was in my bed but this degree calling my name                                                                                       \n",
       "4  if you want to listen to tunes while you travel , i 'd get a hard drive because you can put so much on the thing - including audio books .   \n",
       "\n",
       "   class  \n",
       "0  1      \n",
       "1  0      \n",
       "2  0      \n",
       "3  0      \n",
       "4  1      "
      ]
     },
     "execution_count": 20,
     "metadata": {},
     "output_type": "execute_result"
    }
   ],
   "source": [
    "ruf = ruf.sample(frac=1).reset_index(drop=True)\n",
    "ruf.head()"
   ]
  },
  {
   "cell_type": "code",
   "execution_count": 21,
   "metadata": {
    "collapsed": true
   },
   "outputs": [],
   "source": [
    "ruf_0 = ruf[ruf['class']==0]\n",
    "ruf_1 = ruf[ruf['class']==1]\n",
    "ruf_0 = ruf_0.sample(frac=1).reset_index(drop=True)\n",
    "ruf_1 = ruf_1.sample(frac=1).reset_index(drop=True)"
   ]
  },
  {
   "cell_type": "code",
   "execution_count": 22,
   "metadata": {
    "collapsed": false
   },
   "outputs": [
    {
     "data": {
      "text/plain": [
       "(3472, 2)"
      ]
     },
     "execution_count": 22,
     "metadata": {},
     "output_type": "execute_result"
    }
   ],
   "source": [
    "ruf_1.shape"
   ]
  },
  {
   "cell_type": "code",
   "execution_count": 23,
   "metadata": {
    "collapsed": true
   },
   "outputs": [],
   "source": [
    "fruf = ruf_0[:3472]"
   ]
  },
  {
   "cell_type": "code",
   "execution_count": 24,
   "metadata": {
    "collapsed": false
   },
   "outputs": [
    {
     "data": {
      "text/html": [
       "<div>\n",
       "<table border=\"1\" class=\"dataframe\">\n",
       "  <thead>\n",
       "    <tr style=\"text-align: right;\">\n",
       "      <th></th>\n",
       "      <th>text</th>\n",
       "      <th>class</th>\n",
       "    </tr>\n",
       "  </thead>\n",
       "  <tbody>\n",
       "    <tr>\n",
       "      <th>6939</th>\n",
       "      <td>Apparently Windows 8.1 HTML store apps do not support IndexedDB, so developers are using ad-hoc solutions on top of SQLite:http://blogs.windows.com/buildingapps/2014/07/02/writing-a-sqlite-wrapper-component-for-universal-windows-apps/ This is a poor state of affairs for the web platform, since IndexedDB has long replaced WebSQL as the preferred way to store user data.\\r\\rSo it should be supported in store apps.\"\"\"</td>\n",
       "      <td>1</td>\n",
       "    </tr>\n",
       "    <tr>\n",
       "      <th>6940</th>\n",
       "      <td>RT @SuTraveller: I hate it when people try to give advice in a scary way.\\rLike, I AM the one going through this. Not you. PLEASE, CHILL.</td>\n",
       "      <td>1</td>\n",
       "    </tr>\n",
       "    <tr>\n",
       "      <th>6941</th>\n",
       "      <td>RT @AngelUbide: My advice to #ECB last Nov: shift QE to market weights, redefine target to 2 % symmetric, &amp;amp; open ended QE. https://t.co/LYc_��_</td>\n",
       "      <td>1</td>\n",
       "    </tr>\n",
       "    <tr>\n",
       "      <th>6942</th>\n",
       "      <td>Provide preference setting to categorize apps in the long list by their categories in app store rather than names or alphabetical order...this is extremely helpful for people with lots of apps and provide the ability to maintain the uniformity of the UI while making it more user friendly</td>\n",
       "      <td>1</td>\n",
       "    </tr>\n",
       "    <tr>\n",
       "      <th>6943</th>\n",
       "      <td>An editor (like properties/settings) would be great.</td>\n",
       "      <td>1</td>\n",
       "    </tr>\n",
       "  </tbody>\n",
       "</table>\n",
       "</div>"
      ],
      "text/plain": [
       "                                                                                                                                                                                                                                                                                                                                                                                                                                   text  \\\n",
       "6939  Apparently Windows 8.1 HTML store apps do not support IndexedDB, so developers are using ad-hoc solutions on top of SQLite:http://blogs.windows.com/buildingapps/2014/07/02/writing-a-sqlite-wrapper-component-for-universal-windows-apps/ This is a poor state of affairs for the web platform, since IndexedDB has long replaced WebSQL as the preferred way to store user data.\\r\\rSo it should be supported in store apps.\"\"\"   \n",
       "6940  RT @SuTraveller: I hate it when people try to give advice in a scary way.\\rLike, I AM the one going through this. Not you. PLEASE, CHILL.                                                                                                                                                                                                                                                                                           \n",
       "6941  RT @AngelUbide: My advice to #ECB last Nov: shift QE to market weights, redefine target to 2 % symmetric, &amp; open ended QE. https://t.co/LYc_��_                                                                                                                                                                                                                                                                                 \n",
       "6942  Provide preference setting to categorize apps in the long list by their categories in app store rather than names or alphabetical order...this is extremely helpful for people with lots of apps and provide the ability to maintain the uniformity of the UI while making it more user friendly                                                                                                                                    \n",
       "6943  An editor (like properties/settings) would be great.                                                                                                                                                                                                                                                                                                                                                                                \n",
       "\n",
       "      class  \n",
       "6939  1      \n",
       "6940  1      \n",
       "6941  1      \n",
       "6942  1      \n",
       "6943  1      "
      ]
     },
     "execution_count": 24,
     "metadata": {},
     "output_type": "execute_result"
    }
   ],
   "source": [
    "fruf = fruf.append(ruf_1,ignore_index=True)\n",
    "fruf.tail()"
   ]
  },
  {
   "cell_type": "code",
   "execution_count": 135,
   "metadata": {
    "collapsed": false
   },
   "outputs": [
    {
     "data": {
      "text/html": [
       "<div>\n",
       "<table border=\"1\" class=\"dataframe\">\n",
       "  <thead>\n",
       "    <tr style=\"text-align: right;\">\n",
       "      <th></th>\n",
       "      <th>text</th>\n",
       "      <th>class</th>\n",
       "    </tr>\n",
       "  </thead>\n",
       "  <tbody>\n",
       "    <tr>\n",
       "      <th>6939</th>\n",
       "      <td>@thurrott #microsoft is trying everything to make WP7 successful. Public not interested</td>\n",
       "      <td>0</td>\n",
       "    </tr>\n",
       "    <tr>\n",
       "      <th>6940</th>\n",
       "      <td>The only real downside of this hotel is its bar: It is a cigar bar</td>\n",
       "      <td>0</td>\n",
       "    </tr>\n",
       "    <tr>\n",
       "      <th>6941</th>\n",
       "      <td>This is your 2 minute warning to prepare for the coming snow. Make your plans now.  https://t.co/WKOND6xZ64</td>\n",
       "      <td>1</td>\n",
       "    </tr>\n",
       "    <tr>\n",
       "      <th>6942</th>\n",
       "      <td>once i read the manual i was able to point and shoot without having to fumble around trying to figure out where the controls are located .</td>\n",
       "      <td>0</td>\n",
       "    </tr>\n",
       "    <tr>\n",
       "      <th>6943</th>\n",
       "      <td>Not everybody wants a toy and moving tiles around by touch.</td>\n",
       "      <td>0</td>\n",
       "    </tr>\n",
       "  </tbody>\n",
       "</table>\n",
       "</div>"
      ],
      "text/plain": [
       "                                                                                                                                            text  \\\n",
       "6939  @thurrott #microsoft is trying everything to make WP7 successful. Public not interested                                                      \n",
       "6940  The only real downside of this hotel is its bar: It is a cigar bar                                                                           \n",
       "6941  This is your 2 minute warning to prepare for the coming snow. Make your plans now.  https://t.co/WKOND6xZ64                                  \n",
       "6942  once i read the manual i was able to point and shoot without having to fumble around trying to figure out where the controls are located .   \n",
       "6943  Not everybody wants a toy and moving tiles around by touch.                                                                                  \n",
       "\n",
       "      class  \n",
       "6939  0      \n",
       "6940  0      \n",
       "6941  1      \n",
       "6942  0      \n",
       "6943  0      "
      ]
     },
     "execution_count": 135,
     "metadata": {},
     "output_type": "execute_result"
    }
   ],
   "source": [
    "fruf = fruf.sample(frac=1).reset_index(drop=True)\n",
    "fruf.tail()"
   ]
  },
  {
   "cell_type": "markdown",
   "metadata": {},
   "source": [
    "# Correct ML CLassification"
   ]
  },
  {
   "cell_type": "code",
   "execution_count": 264,
   "metadata": {
    "collapsed": true
   },
   "outputs": [],
   "source": [
    "### Updated Version\n",
    "\n",
    "\n",
    "import nltk\n",
    "def get_features(Sentence):\n",
    "    words = Sentence.split(' ')\n",
    "    verbs = ['VB','VBD','VBG','VBN','VBP','VBZ']\n",
    "    flag = False\n",
    "    if 'should' in words :\n",
    "        totag = [words[words.index('should')+1]]\n",
    "        flag = nltk.pos_tag(totag)[0][1] in verbs\n",
    "    if 'would' in words :\n",
    "        totag = [words[words.index('would')+1]]\n",
    "        flag = flag or (nltk.pos_tag(totag)[0][1] in verbs)\n",
    "    features = {}\n",
    "\n",
    "    features['do'] = ('would do' or 'could do' or 'should do' or 'might do') in Sentence\n",
    "    features['be'] = ('could be' or 'should be' or 'might be') in Sentence \n",
    "    features['have'] = ('would be' or 'would have' or 'could have' or 'should have' or 'might have' or 'should\\'ve') in Sentence\n",
    "    features['come'] = ('would come' or 'could come' or 'should come' or 'might come') in Sentence\n",
    "    features['maycome'] = ('will come' or 'may come') in Sentence\n",
    "    features['maydo'] = ('will do' or 'may do') in Sentence\n",
    "    features['mayhave'] = ('will have' or 'may have') in Sentence\n",
    "    features['maybe'] = ('will be' or 'may be') in Sentence\n",
    "    features['need'] = ('need to' or 'needs to' or 'need') in Sentence\n",
    "    features['wish'] = ('wish' or 'hope' or 'hopefully') in Sentence\n",
    "    features['please'] = ('Please' or 'please' or 'Pls' or 'pls' or 'Dear') in Sentence\n",
    "    features['allow'] = ('Allow' or 'allow' or 'add') in Sentence\n",
    "    features['want'] = ('wants to' or 'want to') in Sentence\n",
    "    features['must'] = ('must be' or 'must do' or 'must have') in Sentence\n",
    "    features['verb'] = flag\n",
    "    features['suggest'] = ('suggest' or 'recommend' or 'request') in Sentence\n",
    "    features['misc'] = ('go for' or 'can\\'t believe' or 'don\\'t believe' or 'didn\\'t') in Sentence\n",
    "    return features"
   ]
  },
  {
   "cell_type": "markdown",
   "metadata": {},
   "source": [
    "## Only on hotel data"
   ]
  },
  {
   "cell_type": "code",
   "execution_count": 393,
   "metadata": {
    "collapsed": false
   },
   "outputs": [
    {
     "data": {
      "text/plain": [
       "(7534, 2)"
      ]
     },
     "execution_count": 393,
     "metadata": {},
     "output_type": "execute_result"
    }
   ],
   "source": [
    "hotel.shape"
   ]
  },
  {
   "cell_type": "code",
   "execution_count": 394,
   "metadata": {
    "collapsed": false
   },
   "outputs": [
    {
     "name": "stdout",
     "output_type": "stream",
     "text": [
      "0.956\n"
     ]
    }
   ],
   "source": [
    "featurehotels = [(get_features(n),v) for n,v in zip(hotel['text'],hotel['class'])]\n",
    "train_hotel,test_hotel = featurehotels[:-750],featurehotels[-750:]\n",
    "classifier = nltk.NaiveBayesClassifier.train(train_hotel)\n",
    "print(nltk.classify.accuracy(classifier,test_hotel))"
   ]
  },
  {
   "cell_type": "code",
   "execution_count": 395,
   "metadata": {
    "collapsed": true
   },
   "outputs": [],
   "source": [
    "Y_hotel_test = []\n",
    "for i in range(0,len(test_hotel)):\n",
    "    Y_hotel_test.append(featurehotels[i][1])"
   ]
  },
  {
   "cell_type": "code",
   "execution_count": 396,
   "metadata": {
    "collapsed": true
   },
   "outputs": [],
   "source": [
    "Y_hotel_pred_nb = []\n",
    "for i in range(0,len(test_hotel)):\n",
    "    Y_hotel_pred_nb.append(nltk.NaiveBayesClassifier.classify(classifier,test_hotel[i][0]))"
   ]
  },
  {
   "cell_type": "code",
   "execution_count": 397,
   "metadata": {
    "collapsed": false
   },
   "outputs": [
    {
     "name": "stdout",
     "output_type": "stream",
     "text": [
      "             precision    recall  f1-score   support\n",
      "\n",
      "    Not Sug       0.96      1.00      0.98       715\n",
      "        Sug       0.67      0.06      0.11        35\n",
      "\n",
      "avg / total       0.94      0.95      0.94       750\n",
      "\n"
     ]
    }
   ],
   "source": [
    "# precision recall and F1 score.\n",
    "from sklearn.metrics import classification_report\n",
    "print(classification_report(Y_hotel_test, \n",
    "                            Y_hotel_pred_nb, \n",
    "                            target_names=['Not Sug', 'Sug']))"
   ]
  },
  {
   "cell_type": "markdown",
   "metadata": {},
   "source": [
    "## NaiveBayes"
   ]
  },
  {
   "cell_type": "code",
   "execution_count": 381,
   "metadata": {
    "collapsed": true
   },
   "outputs": [],
   "source": [
    "import numpy as np"
   ]
  },
  {
   "cell_type": "code",
   "execution_count": 371,
   "metadata": {
    "collapsed": false
   },
   "outputs": [
    {
     "name": "stdout",
     "output_type": "stream",
     "text": [
      "0.82275862069\n"
     ]
    }
   ],
   "source": [
    "featuresets = [(get_features(n),v) for n,v in zip(final['text'],final['class'])]\n",
    "train_final,test_final = featuresets[:-2900],featuresets[-2900:]\n",
    "classifier = nltk.NaiveBayesClassifier.train(train_final)\n",
    "print(nltk.classify.accuracy(classifier,test_final))"
   ]
  },
  {
   "cell_type": "code",
   "execution_count": 372,
   "metadata": {
    "collapsed": false
   },
   "outputs": [],
   "source": [
    "Y_pred_nb = []\n",
    "for i in range(0,len(test_final)):\n",
    "    Y_pred_nb.append(nltk.NaiveBayesClassifier.classify(classifier,test_final[i][0]))"
   ]
  },
  {
   "cell_type": "code",
   "execution_count": 382,
   "metadata": {
    "collapsed": false
   },
   "outputs": [],
   "source": [
    "Y_pred_nb = np.asarray(Y_pred_nb)"
   ]
  },
  {
   "cell_type": "code",
   "execution_count": 390,
   "metadata": {
    "collapsed": false
   },
   "outputs": [
    {
     "name": "stdout",
     "output_type": "stream",
     "text": [
      "             precision    recall  f1-score   support\n",
      "\n",
      "    Not Sug       0.77      0.97      0.86      2219\n",
      "        Sug       0.27      0.03      0.06       681\n",
      "\n",
      "avg / total       0.65      0.75      0.67      2900\n",
      "\n"
     ]
    }
   ],
   "source": [
    "# precision recall and F1 score.\n",
    "from sklearn.metrics import classification_report\n",
    "print(classification_report(Y_test, \n",
    "                            Y_pred_nb, \n",
    "                            target_names=['Not Sug', 'Sug']))"
   ]
  },
  {
   "cell_type": "code",
   "execution_count": 361,
   "metadata": {
    "collapsed": false
   },
   "outputs": [
    {
     "data": {
      "text/plain": [
       "{'allow': False,\n",
       " 'be': False,\n",
       " 'come': False,\n",
       " 'do': False,\n",
       " 'have': False,\n",
       " 'maybe': False,\n",
       " 'maycome': False,\n",
       " 'maydo': False,\n",
       " 'mayhave': False,\n",
       " 'misc': False,\n",
       " 'must': False,\n",
       " 'need': False,\n",
       " 'please': False,\n",
       " 'suggest': False,\n",
       " 'verb': False,\n",
       " 'want': False,\n",
       " 'wish': False}"
      ]
     },
     "execution_count": 361,
     "metadata": {},
     "output_type": "execute_result"
    }
   ],
   "source": [
    "test_final[0][0]"
   ]
  },
  {
   "cell_type": "code",
   "execution_count": 267,
   "metadata": {
    "collapsed": true
   },
   "outputs": [],
   "source": [
    "big_dfs = []\n",
    "for i in range(0,len(featuresets)):\n",
    "    big_dfs.append(featuresets[i][0])"
   ]
  },
  {
   "cell_type": "code",
   "execution_count": 268,
   "metadata": {
    "collapsed": false
   },
   "outputs": [
    {
     "data": {
      "text/plain": [
       "(24199, 17)"
      ]
     },
     "execution_count": 268,
     "metadata": {},
     "output_type": "execute_result"
    }
   ],
   "source": [
    "big_df = pd.DataFrame.from_dict(big_dfs)\n",
    "big_df.shape"
   ]
  },
  {
   "cell_type": "code",
   "execution_count": 269,
   "metadata": {
    "collapsed": false
   },
   "outputs": [],
   "source": [
    "train_big,test_big = big_df[:-2900],big_df[-2900:]"
   ]
  },
  {
   "cell_type": "code",
   "execution_count": 270,
   "metadata": {
    "collapsed": false
   },
   "outputs": [
    {
     "data": {
      "text/html": [
       "<div>\n",
       "<table border=\"1\" class=\"dataframe\">\n",
       "  <thead>\n",
       "    <tr style=\"text-align: right;\">\n",
       "      <th></th>\n",
       "      <th>allow</th>\n",
       "      <th>be</th>\n",
       "      <th>come</th>\n",
       "      <th>do</th>\n",
       "      <th>have</th>\n",
       "      <th>maybe</th>\n",
       "      <th>maycome</th>\n",
       "      <th>maydo</th>\n",
       "      <th>mayhave</th>\n",
       "      <th>misc</th>\n",
       "      <th>must</th>\n",
       "      <th>need</th>\n",
       "      <th>please</th>\n",
       "      <th>suggest</th>\n",
       "      <th>verb</th>\n",
       "      <th>want</th>\n",
       "      <th>wish</th>\n",
       "    </tr>\n",
       "  </thead>\n",
       "  <tbody>\n",
       "    <tr>\n",
       "      <th>0</th>\n",
       "      <td>False</td>\n",
       "      <td>False</td>\n",
       "      <td>False</td>\n",
       "      <td>False</td>\n",
       "      <td>False</td>\n",
       "      <td>False</td>\n",
       "      <td>False</td>\n",
       "      <td>False</td>\n",
       "      <td>False</td>\n",
       "      <td>False</td>\n",
       "      <td>False</td>\n",
       "      <td>False</td>\n",
       "      <td>True</td>\n",
       "      <td>False</td>\n",
       "      <td>False</td>\n",
       "      <td>False</td>\n",
       "      <td>False</td>\n",
       "    </tr>\n",
       "    <tr>\n",
       "      <th>1</th>\n",
       "      <td>False</td>\n",
       "      <td>False</td>\n",
       "      <td>False</td>\n",
       "      <td>False</td>\n",
       "      <td>False</td>\n",
       "      <td>False</td>\n",
       "      <td>False</td>\n",
       "      <td>False</td>\n",
       "      <td>False</td>\n",
       "      <td>False</td>\n",
       "      <td>False</td>\n",
       "      <td>False</td>\n",
       "      <td>False</td>\n",
       "      <td>False</td>\n",
       "      <td>False</td>\n",
       "      <td>False</td>\n",
       "      <td>False</td>\n",
       "    </tr>\n",
       "    <tr>\n",
       "      <th>2</th>\n",
       "      <td>False</td>\n",
       "      <td>False</td>\n",
       "      <td>False</td>\n",
       "      <td>False</td>\n",
       "      <td>False</td>\n",
       "      <td>False</td>\n",
       "      <td>False</td>\n",
       "      <td>False</td>\n",
       "      <td>False</td>\n",
       "      <td>False</td>\n",
       "      <td>False</td>\n",
       "      <td>False</td>\n",
       "      <td>False</td>\n",
       "      <td>False</td>\n",
       "      <td>False</td>\n",
       "      <td>False</td>\n",
       "      <td>False</td>\n",
       "    </tr>\n",
       "    <tr>\n",
       "      <th>3</th>\n",
       "      <td>False</td>\n",
       "      <td>False</td>\n",
       "      <td>False</td>\n",
       "      <td>False</td>\n",
       "      <td>False</td>\n",
       "      <td>False</td>\n",
       "      <td>False</td>\n",
       "      <td>False</td>\n",
       "      <td>False</td>\n",
       "      <td>False</td>\n",
       "      <td>False</td>\n",
       "      <td>False</td>\n",
       "      <td>False</td>\n",
       "      <td>False</td>\n",
       "      <td>False</td>\n",
       "      <td>False</td>\n",
       "      <td>False</td>\n",
       "    </tr>\n",
       "    <tr>\n",
       "      <th>4</th>\n",
       "      <td>False</td>\n",
       "      <td>False</td>\n",
       "      <td>False</td>\n",
       "      <td>False</td>\n",
       "      <td>False</td>\n",
       "      <td>False</td>\n",
       "      <td>False</td>\n",
       "      <td>False</td>\n",
       "      <td>False</td>\n",
       "      <td>False</td>\n",
       "      <td>False</td>\n",
       "      <td>False</td>\n",
       "      <td>False</td>\n",
       "      <td>False</td>\n",
       "      <td>False</td>\n",
       "      <td>False</td>\n",
       "      <td>False</td>\n",
       "    </tr>\n",
       "  </tbody>\n",
       "</table>\n",
       "</div>"
      ],
      "text/plain": [
       "   allow     be   come     do   have  maybe maycome  maydo mayhave   misc  \\\n",
       "0  False  False  False  False  False  False  False   False  False   False   \n",
       "1  False  False  False  False  False  False  False   False  False   False   \n",
       "2  False  False  False  False  False  False  False   False  False   False   \n",
       "3  False  False  False  False  False  False  False   False  False   False   \n",
       "4  False  False  False  False  False  False  False   False  False   False   \n",
       "\n",
       "    must   need please suggest   verb   want   wish  \n",
       "0  False  False  True   False   False  False  False  \n",
       "1  False  False  False  False   False  False  False  \n",
       "2  False  False  False  False   False  False  False  \n",
       "3  False  False  False  False   False  False  False  \n",
       "4  False  False  False  False   False  False  False  "
      ]
     },
     "execution_count": 270,
     "metadata": {},
     "output_type": "execute_result"
    }
   ],
   "source": [
    "train_big.head()"
   ]
  },
  {
   "cell_type": "code",
   "execution_count": 387,
   "metadata": {
    "collapsed": true
   },
   "outputs": [],
   "source": [
    "Y_train = []\n",
    "for i in range(0,len(train_big)):\n",
    "    Y_train.append(featuresets[i][1])\n",
    "Y_test = []\n",
    "for i in range(0,len(test_big)):\n",
    "    Y_test.append(featuresets[i][1])"
   ]
  },
  {
   "cell_type": "code",
   "execution_count": 388,
   "metadata": {
    "collapsed": false
   },
   "outputs": [
    {
     "data": {
      "text/plain": [
       "2900"
      ]
     },
     "execution_count": 388,
     "metadata": {},
     "output_type": "execute_result"
    }
   ],
   "source": [
    "len(Y_test)"
   ]
  },
  {
   "cell_type": "markdown",
   "metadata": {},
   "source": [
    "## Random Forest"
   ]
  },
  {
   "cell_type": "code",
   "execution_count": 320,
   "metadata": {
    "collapsed": true
   },
   "outputs": [],
   "source": [
    "from sklearn.ensemble import RandomForestClassifier\n",
    "rf1 = RandomForestClassifier()\n",
    "rf =  RandomForestClassifier(n_estimators = 10000,oob_score = True, n_jobs = -1, random_state = 50, max_features = \"sqrt\", min_samples_leaf = 1)"
   ]
  },
  {
   "cell_type": "code",
   "execution_count": 321,
   "metadata": {
    "collapsed": false
   },
   "outputs": [
    {
     "data": {
      "text/plain": [
       "RandomForestClassifier(bootstrap=True, class_weight=None, criterion='gini',\n",
       "            max_depth=None, max_features='sqrt', max_leaf_nodes=None,\n",
       "            min_impurity_split=1e-07, min_samples_leaf=1,\n",
       "            min_samples_split=2, min_weight_fraction_leaf=0.0,\n",
       "            n_estimators=10000, n_jobs=-1, oob_score=True, random_state=50,\n",
       "            verbose=0, warm_start=False)"
      ]
     },
     "execution_count": 321,
     "metadata": {},
     "output_type": "execute_result"
    }
   ],
   "source": [
    "rf.fit(train_big,Y_train)"
   ]
  },
  {
   "cell_type": "code",
   "execution_count": 322,
   "metadata": {
    "collapsed": true
   },
   "outputs": [],
   "source": [
    "Y_pred_rf = rf.predict(test_big)"
   ]
  },
  {
   "cell_type": "code",
   "execution_count": 323,
   "metadata": {
    "collapsed": false
   },
   "outputs": [
    {
     "data": {
      "text/plain": [
       "0.75862068965517238"
      ]
     },
     "execution_count": 323,
     "metadata": {},
     "output_type": "execute_result"
    }
   ],
   "source": [
    "accuracy_score(Y_pred_rf,Y_test)"
   ]
  },
  {
   "cell_type": "markdown",
   "metadata": {},
   "source": [
    "# XGBoost"
   ]
  },
  {
   "cell_type": "code",
   "execution_count": 276,
   "metadata": {
    "collapsed": true
   },
   "outputs": [],
   "source": [
    "import xgboost as xgb\n",
    "dtrain = xgb.DMatrix(train_big,Y_train)"
   ]
  },
  {
   "cell_type": "code",
   "execution_count": 277,
   "metadata": {
    "collapsed": true
   },
   "outputs": [],
   "source": [
    "params = {\"objective\": \"multi:softmax\",\n",
    "            \"num_class\":2,\n",
    "          \"booster\" : \"gbtree\",\n",
    "          \"eta\": 0.092,\n",
    "          \"max_depth\": 3,\n",
    "          \"subsample\": 1.0,\n",
    "          \"colsample_bytree\": 0.7,\n",
    "          \"silent\": 1,\n",
    "          \"seed\": 1301,\n",
    "          \"min_child_weight\": 10\n",
    "          }\n",
    "num_boost_round = 100"
   ]
  },
  {
   "cell_type": "code",
   "execution_count": 278,
   "metadata": {
    "collapsed": false
   },
   "outputs": [],
   "source": [
    "gbm = xgb.train(params,dtrain,num_boost_round)"
   ]
  },
  {
   "cell_type": "code",
   "execution_count": 279,
   "metadata": {
    "collapsed": false
   },
   "outputs": [],
   "source": [
    "Y_pred_xgb = gbm.predict(xgb.DMatrix(test_big))"
   ]
  },
  {
   "cell_type": "code",
   "execution_count": 280,
   "metadata": {
    "collapsed": false
   },
   "outputs": [
    {
     "data": {
      "text/plain": [
       "0.75172413793103443"
      ]
     },
     "execution_count": 280,
     "metadata": {},
     "output_type": "execute_result"
    }
   ],
   "source": [
    "accuracy_score(Y_pred_xgb,Y_test)"
   ]
  },
  {
   "cell_type": "markdown",
   "metadata": {},
   "source": [
    "## SVM"
   ]
  },
  {
   "cell_type": "code",
   "execution_count": 281,
   "metadata": {
    "collapsed": true
   },
   "outputs": [],
   "source": [
    "from sklearn import svm\n",
    "svm = svm.SVC(kernel='linear', probability=True)"
   ]
  },
  {
   "cell_type": "code",
   "execution_count": 282,
   "metadata": {
    "collapsed": false
   },
   "outputs": [
    {
     "data": {
      "text/plain": [
       "SVC(C=1.0, cache_size=200, class_weight=None, coef0=0.0,\n",
       "  decision_function_shape=None, degree=3, gamma='auto', kernel='linear',\n",
       "  max_iter=-1, probability=True, random_state=None, shrinking=True,\n",
       "  tol=0.001, verbose=False)"
      ]
     },
     "execution_count": 282,
     "metadata": {},
     "output_type": "execute_result"
    }
   ],
   "source": [
    "svm.fit(train_big,Y_train)"
   ]
  },
  {
   "cell_type": "code",
   "execution_count": 283,
   "metadata": {
    "collapsed": true
   },
   "outputs": [],
   "source": [
    "Y_pred_svm = svm.predict(test_big)"
   ]
  },
  {
   "cell_type": "code",
   "execution_count": 284,
   "metadata": {
    "collapsed": false
   },
   "outputs": [
    {
     "data": {
      "text/plain": [
       "0.75758620689655176"
      ]
     },
     "execution_count": 284,
     "metadata": {},
     "output_type": "execute_result"
    }
   ],
   "source": [
    "accuracy_score(Y_test,Y_pred_svm)"
   ]
  },
  {
   "cell_type": "code",
   "execution_count": 336,
   "metadata": {
    "collapsed": true
   },
   "outputs": [],
   "source": [
    "Y_pred_final = []\n",
    "for i in range(0,len(Y_test)):\n",
    "    Y_pred_final.append((Y_pred_rf[i] or Y_pred_xgb[i] or Y_pred_svm[i]))"
   ]
  },
  {
   "cell_type": "code",
   "execution_count": 337,
   "metadata": {
    "collapsed": false
   },
   "outputs": [
    {
     "data": {
      "text/plain": [
       "0.75206896551724134"
      ]
     },
     "execution_count": 337,
     "metadata": {},
     "output_type": "execute_result"
    }
   ],
   "source": [
    "accuracy_score(Y_pred_final,Y_test)"
   ]
  },
  {
   "cell_type": "markdown",
   "metadata": {},
   "source": [
    "## ML Classification"
   ]
  },
  {
   "cell_type": "code",
   "execution_count": null,
   "metadata": {
    "collapsed": true
   },
   "outputs": [],
   "source": []
  },
  {
   "cell_type": "raw",
   "metadata": {
    "collapsed": true
   },
   "source": [
    "### Updated Version\n",
    "\n",
    "\n",
    "import nltk\n",
    "def get_features(Sentence):\n",
    "    words = Sentence.split(' ')\n",
    "    verbs = ['VB','VBD','VBG','VBN','VBP','VBZ']\n",
    "    flag = False\n",
    "    if 'should' in words :\n",
    "        totag = [words[words.index('should')+1]]\n",
    "        flag = nltk.pos_tag(totag)[0][1] in verbs\n",
    "    if 'would' in words :\n",
    "        totag = [words[words.index('would')+1]]\n",
    "        flag = flag or (nltk.pos_tag(totag)[0][1] in verbs)\n",
    "    features = {}\n",
    "\n",
    "    features['do'] = ('would do' or 'could do' or 'should do' or 'might do') in Sentence\n",
    "    features['be'] = ('could be' or 'should be' or 'might be') in Sentence \n",
    "    features['have'] = ('would be' or 'would have' or 'could have' or 'should have' or 'might have' or 'should\\'ve') in Sentence\n",
    "    features['come'] = ('would come' or 'could come' or 'should come' or 'might come') in Sentence\n",
    "    features['maycome'] = ('will come' or 'may come') in Sentence\n",
    "    features['maydo'] = ('will do' or 'may do') in Sentence\n",
    "    features['mayhave'] = ('will have' or 'may have') in Sentence\n",
    "    features['maybe'] = ('will be' or 'may be') in Sentence\n",
    "    features['need'] = ('need to' or 'needs to' or 'need') in Sentence\n",
    "    features['wish'] = ('wish' or 'hope' or 'hopefully') in Sentence\n",
    "    features['please'] = ('Please' or 'please' or 'Pls' or 'pls' or 'Dear') in Sentence\n",
    "    features['allow'] = ('Allow' or 'allow' or 'add') in Sentence\n",
    "    features['want'] = ('wants to' or 'want to') in Sentence\n",
    "    features['must'] = ('must be' or 'must do' or 'must have') in Sentence\n",
    "    features['verb'] = flag\n",
    "    features['suggest'] = ('suggest' or 'recommend' or 'request') in Sentence\n",
    "    features['misc'] = ('go for' or 'can\\'t believe' or 'don\\'t believe' or 'didn\\'t') in Sentence\n",
    "    return features\n",
    "\n",
    "\n",
    "### Older Version\n",
    "\n",
    "\n",
    "import nltk\n",
    "def get_features(Sentence):\n",
    "    words = Sentence.split(' ')\n",
    "    verbs = ['VB','VBD','VBG','VBN','VBP','VBZ']\n",
    "    flag = False\n",
    "    if 'should' in words :\n",
    "        totag = [words[words.index('should')+1]]\n",
    "        flag = nltk.pos_tag(totag) in verbs\n",
    "    features = {}\n",
    "\n",
    "    features['do'] = ('would do' or 'could do' or 'should do' or 'might do') in Sentence\n",
    "    features['be'] = ('could be' or 'should be' or 'might be') in Sentence \n",
    "    features['have'] = ('would be' or 'would have' or 'could have' or 'should have' or 'might have' or 'should\\'ve') in Sentence\n",
    "    features['come'] = ('would come' or 'could come' or 'should come' or 'might come') in Sentence\n",
    "    features['maycome'] = ('will come' or 'may come') in Sentence\n",
    "    features['maydo'] = ('will do' or 'may do') in Sentence\n",
    "    features['mayhave'] = ('will have' or 'may have') in Sentence\n",
    "    features['maybe'] = ('will be' or 'may be') in Sentence\n",
    "    features['need'] = ('need to' or 'needs to') in Sentence\n",
    "    features['wish'] = ('wish' or 'hope' or 'hopefully') in Sentence\n",
    "    features['please'] = ('Please' or 'please' or 'Pls' or 'pls' or 'Dear') in Sentence\n",
    "    features['allow'] = ('Allow' or 'allow') in Sentence\n",
    "    features['want'] = ('wants to' or 'want to') in Sentence\n",
    "    features['must'] = ('must be' or 'must do' or 'must have') in Sentence\n",
    "    features['verb'] = flag\n",
    "    \n",
    "    \n",
    "    return features"
   ]
  },
  {
   "cell_type": "code",
   "execution_count": 285,
   "metadata": {
    "collapsed": true
   },
   "outputs": [],
   "source": [
    "### Updated Version\n",
    "\n",
    "\n",
    "import nltk\n",
    "def get_features(Sentence):\n",
    "    words = Sentence.split(' ')\n",
    "    verbs = ['VB','VBD','VBG','VBN','VBP','VBZ']\n",
    "    flag = False\n",
    "    if 'should' in words :\n",
    "        totag = [words[words.index('should')+1]]\n",
    "        flag = nltk.pos_tag(totag)[0][1] in verbs\n",
    "    if 'would' in words :\n",
    "        totag = [words[words.index('would')+1]]\n",
    "        flag = flag or (nltk.pos_tag(totag)[0][1] in verbs)\n",
    "    features = {}\n",
    "\n",
    "    features['do'] = ('would do' or 'could do' or 'should do' or 'might do') in Sentence\n",
    "    features['be'] = ('could be' or 'should be' or 'might be') in Sentence \n",
    "    features['have'] = ('would be' or 'would have' or 'could have' or 'should have' or 'might have' or 'should\\'ve') in Sentence\n",
    "    features['come'] = ('would come' or 'could come' or 'should come' or 'might come') in Sentence\n",
    "    features['maycome'] = ('will come' or 'may come') in Sentence\n",
    "    features['maydo'] = ('will do' or 'may do') in Sentence\n",
    "    features['mayhave'] = ('will have' or 'may have') in Sentence\n",
    "    features['maybe'] = ('will be' or 'may be') in Sentence\n",
    "    features['need'] = ('need to' or 'needs to' or 'need') in Sentence\n",
    "    features['wish'] = ('wish' or 'hope' or 'hopefully') in Sentence\n",
    "    features['please'] = ('Please' or 'please' or 'Pls' or 'pls' or 'Dear') in Sentence\n",
    "    features['allow'] = ('Allow' or 'allow' or 'add') in Sentence\n",
    "    features['want'] = ('wants to' or 'want to') in Sentence\n",
    "    features['must'] = ('must be' or 'must do' or 'must have') in Sentence\n",
    "    features['verb'] = flag\n",
    "    features['suggest'] = ('suggest' or 'recommend' or 'request') in Sentence\n",
    "    features['misc'] = ('go for' or 'can\\'t believe' or 'don\\'t believe' or 'didn\\'t') in Sentence\n",
    "    return features"
   ]
  },
  {
   "cell_type": "code",
   "execution_count": 286,
   "metadata": {
    "collapsed": true
   },
   "outputs": [],
   "source": [
    "featuregels = [(get_features(n),v) for n,v in zip(fruf['text'],fruf['class'])]\n",
    "train_f,test_f = featuregels[:-500],featuregels[-500:]"
   ]
  },
  {
   "cell_type": "code",
   "execution_count": 287,
   "metadata": {
    "collapsed": true
   },
   "outputs": [],
   "source": [
    "dfs = []\n",
    "for i in range(0,len(featuregels)):\n",
    "    dfs.append(featuregels[i][0])"
   ]
  },
  {
   "cell_type": "code",
   "execution_count": 288,
   "metadata": {
    "collapsed": true
   },
   "outputs": [],
   "source": [
    "y_train = []\n",
    "for i in range(0,len(train_f)):\n",
    "    y_train.append(featuregels[i][1])\n",
    "y_test = []\n",
    "for i in range(0,len(test_f)):\n",
    "    y_test.append(featuregels[i][1])"
   ]
  },
  {
   "cell_type": "code",
   "execution_count": 289,
   "metadata": {
    "collapsed": false
   },
   "outputs": [
    {
     "data": {
      "text/html": [
       "<div>\n",
       "<table border=\"1\" class=\"dataframe\">\n",
       "  <thead>\n",
       "    <tr style=\"text-align: right;\">\n",
       "      <th></th>\n",
       "      <th>allow</th>\n",
       "      <th>be</th>\n",
       "      <th>come</th>\n",
       "      <th>do</th>\n",
       "      <th>have</th>\n",
       "      <th>maybe</th>\n",
       "      <th>maycome</th>\n",
       "      <th>maydo</th>\n",
       "      <th>mayhave</th>\n",
       "      <th>misc</th>\n",
       "      <th>must</th>\n",
       "      <th>need</th>\n",
       "      <th>please</th>\n",
       "      <th>suggest</th>\n",
       "      <th>verb</th>\n",
       "      <th>want</th>\n",
       "      <th>wish</th>\n",
       "    </tr>\n",
       "  </thead>\n",
       "  <tbody>\n",
       "    <tr>\n",
       "      <th>0</th>\n",
       "      <td>False</td>\n",
       "      <td>False</td>\n",
       "      <td>False</td>\n",
       "      <td>False</td>\n",
       "      <td>False</td>\n",
       "      <td>False</td>\n",
       "      <td>False</td>\n",
       "      <td>False</td>\n",
       "      <td>False</td>\n",
       "      <td>False</td>\n",
       "      <td>False</td>\n",
       "      <td>False</td>\n",
       "      <td>False</td>\n",
       "      <td>False</td>\n",
       "      <td>False</td>\n",
       "      <td>False</td>\n",
       "      <td>False</td>\n",
       "    </tr>\n",
       "    <tr>\n",
       "      <th>1</th>\n",
       "      <td>False</td>\n",
       "      <td>False</td>\n",
       "      <td>False</td>\n",
       "      <td>False</td>\n",
       "      <td>False</td>\n",
       "      <td>False</td>\n",
       "      <td>False</td>\n",
       "      <td>False</td>\n",
       "      <td>False</td>\n",
       "      <td>False</td>\n",
       "      <td>False</td>\n",
       "      <td>False</td>\n",
       "      <td>False</td>\n",
       "      <td>False</td>\n",
       "      <td>False</td>\n",
       "      <td>False</td>\n",
       "      <td>False</td>\n",
       "    </tr>\n",
       "    <tr>\n",
       "      <th>2</th>\n",
       "      <td>False</td>\n",
       "      <td>False</td>\n",
       "      <td>False</td>\n",
       "      <td>False</td>\n",
       "      <td>False</td>\n",
       "      <td>False</td>\n",
       "      <td>False</td>\n",
       "      <td>False</td>\n",
       "      <td>False</td>\n",
       "      <td>False</td>\n",
       "      <td>False</td>\n",
       "      <td>False</td>\n",
       "      <td>False</td>\n",
       "      <td>False</td>\n",
       "      <td>False</td>\n",
       "      <td>False</td>\n",
       "      <td>False</td>\n",
       "    </tr>\n",
       "    <tr>\n",
       "      <th>3</th>\n",
       "      <td>False</td>\n",
       "      <td>False</td>\n",
       "      <td>False</td>\n",
       "      <td>False</td>\n",
       "      <td>False</td>\n",
       "      <td>True</td>\n",
       "      <td>False</td>\n",
       "      <td>False</td>\n",
       "      <td>False</td>\n",
       "      <td>False</td>\n",
       "      <td>False</td>\n",
       "      <td>False</td>\n",
       "      <td>False</td>\n",
       "      <td>False</td>\n",
       "      <td>False</td>\n",
       "      <td>False</td>\n",
       "      <td>False</td>\n",
       "    </tr>\n",
       "    <tr>\n",
       "      <th>4</th>\n",
       "      <td>False</td>\n",
       "      <td>False</td>\n",
       "      <td>False</td>\n",
       "      <td>False</td>\n",
       "      <td>True</td>\n",
       "      <td>False</td>\n",
       "      <td>False</td>\n",
       "      <td>False</td>\n",
       "      <td>False</td>\n",
       "      <td>False</td>\n",
       "      <td>False</td>\n",
       "      <td>False</td>\n",
       "      <td>False</td>\n",
       "      <td>False</td>\n",
       "      <td>True</td>\n",
       "      <td>False</td>\n",
       "      <td>False</td>\n",
       "    </tr>\n",
       "  </tbody>\n",
       "</table>\n",
       "</div>"
      ],
      "text/plain": [
       "   allow     be   come     do   have  maybe maycome  maydo mayhave   misc  \\\n",
       "0  False  False  False  False  False  False  False   False  False   False   \n",
       "1  False  False  False  False  False  False  False   False  False   False   \n",
       "2  False  False  False  False  False  False  False   False  False   False   \n",
       "3  False  False  False  False  False  True   False   False  False   False   \n",
       "4  False  False  False  False  True   False  False   False  False   False   \n",
       "\n",
       "    must   need please suggest   verb   want   wish  \n",
       "0  False  False  False  False   False  False  False  \n",
       "1  False  False  False  False   False  False  False  \n",
       "2  False  False  False  False   False  False  False  \n",
       "3  False  False  False  False   False  False  False  \n",
       "4  False  False  False  False   True   False  False  "
      ]
     },
     "execution_count": 289,
     "metadata": {},
     "output_type": "execute_result"
    }
   ],
   "source": [
    "df = pd.DataFrame.from_dict(dfs)\n",
    "df.head()"
   ]
  },
  {
   "cell_type": "markdown",
   "metadata": {},
   "source": [
    "# Accuracy"
   ]
  },
  {
   "cell_type": "code",
   "execution_count": 290,
   "metadata": {
    "collapsed": true
   },
   "outputs": [],
   "source": [
    "train_rf = df[:-500]\n",
    "test_rf = df[-500:]"
   ]
  },
  {
   "cell_type": "code",
   "execution_count": 291,
   "metadata": {
    "collapsed": false
   },
   "outputs": [],
   "source": [
    "rf1 = rf1.fit(train_rf,y_train)\n",
    "gbm = xgb.train(params,xgb.DMatrix(train_rf,y_train),num_boost_round)"
   ]
  },
  {
   "cell_type": "code",
   "execution_count": 292,
   "metadata": {
    "collapsed": false
   },
   "outputs": [],
   "source": [
    "y_pred_rf = rf1.predict(test_rf)\n",
    "y_pred_xgb = gbm.predict(xgb.DMatrix(test_rf))"
   ]
  },
  {
   "cell_type": "code",
   "execution_count": 293,
   "metadata": {
    "collapsed": false
   },
   "outputs": [
    {
     "name": "stdout",
     "output_type": "stream",
     "text": [
      "0.494\n"
     ]
    }
   ],
   "source": [
    "from sklearn.metrics import accuracy_score\n",
    "print accuracy_score(y_test,y_pred_rf)"
   ]
  },
  {
   "cell_type": "code",
   "execution_count": 294,
   "metadata": {
    "collapsed": false
   },
   "outputs": [
    {
     "name": "stdout",
     "output_type": "stream",
     "text": [
      "0.494\n"
     ]
    }
   ],
   "source": [
    "from sklearn.metrics import accuracy_score\n",
    "print accuracy_score(y_test,y_pred_xgb)"
   ]
  },
  {
   "cell_type": "code",
   "execution_count": 295,
   "metadata": {
    "collapsed": false
   },
   "outputs": [
    {
     "name": "stdout",
     "output_type": "stream",
     "text": [
      "             precision    recall  f1-score   support\n",
      "\n",
      "    Not Sug       0.51      0.85      0.63       259\n",
      "        Sug       0.41      0.12      0.18       241\n",
      "\n",
      "avg / total       0.46      0.49      0.42       500\n",
      "\n"
     ]
    }
   ],
   "source": [
    "# precision recall and F1 score.\n",
    "from sklearn.metrics import classification_report\n",
    "print(classification_report(y_test, \n",
    "                            y_pred_rf, \n",
    "                            target_names=['Not Sug', 'Sug']))"
   ]
  },
  {
   "cell_type": "code",
   "execution_count": 296,
   "metadata": {
    "collapsed": false
   },
   "outputs": [
    {
     "name": "stdout",
     "output_type": "stream",
     "text": [
      "             precision    recall  f1-score   support\n",
      "\n",
      "    Not Sug       0.51      0.85      0.64       259\n",
      "        Sug       0.41      0.11      0.17       241\n",
      "\n",
      "avg / total       0.46      0.49      0.41       500\n",
      "\n"
     ]
    }
   ],
   "source": [
    "# precision recall and F1 score.\n",
    "from sklearn.metrics import classification_report\n",
    "print(classification_report(y_test, \n",
    "                            y_pred_xgb, \n",
    "                            target_names=['Not Sug', 'Sug']))"
   ]
  },
  {
   "cell_type": "markdown",
   "metadata": {},
   "source": [
    "### JAVA RULE BASED SUGGESTION CODE"
   ]
  },
  {
   "cell_type": "code",
   "execution_count": null,
   "metadata": {
    "collapsed": true
   },
   "outputs": [],
   "source": [
    "String[] keywords = {\"suggest\",\"recommend\",\"hopefully\",\"go for\",\"request\",\"it would be nice\",\"adding\",\"should come with\",\"should be able\",\"could come with\", \"i need\" , \"we need\",\"needs\", \"would like to\",\"would love to\",\"allow\",\"add\",\"please\"}\n",
    "\n",
    "{\".*would like.*(if).*\", \".*i wish.*\",\".*i hope.*\",\".*i want.*\",\".*hopefully.*\",\".*if only.*\",\".*would be better if.*\", \".*(should).*\",\".*would that.*\",\".*(can't believe).*(didn't).*\",\".*(don't believe).*(didn't).*\",\".*(do want).*\",\".*i can has.*\"}"
   ]
  },
  {
   "cell_type": "code",
   "execution_count": 341,
   "metadata": {
    "collapsed": true
   },
   "outputs": [],
   "source": [
    "hotel_pred = pd.read_csv('../Desktop/feltso/suggestions/hotel__predicted.csv',names=['json','text','class','pred'])"
   ]
  },
  {
   "cell_type": "code",
   "execution_count": 342,
   "metadata": {
    "collapsed": false
   },
   "outputs": [
    {
     "data": {
      "text/html": [
       "<div>\n",
       "<table border=\"1\" class=\"dataframe\">\n",
       "  <thead>\n",
       "    <tr style=\"text-align: right;\">\n",
       "      <th></th>\n",
       "      <th>json</th>\n",
       "      <th>text</th>\n",
       "      <th>class</th>\n",
       "      <th>pred</th>\n",
       "    </tr>\n",
       "  </thead>\n",
       "  <tbody>\n",
       "    <tr>\n",
       "      <th>0</th>\n",
       "      <td>berlin-hotel-190599-review-2.json_8</td>\n",
       "      <td>If you do end up here, be sure to specify a room at the back of the hotel.</td>\n",
       "      <td>1</td>\n",
       "      <td>0</td>\n",
       "    </tr>\n",
       "    <tr>\n",
       "      <th>1</th>\n",
       "      <td>berlin-hotel-190599-review-3.json_2</td>\n",
       "      <td>and I was woken by the early morning firing up of the local bus service (a courtyard-facing room is essential unless you have industrial strength earplugs.)The rooms are small and ill-conceived.</td>\n",
       "      <td>1</td>\n",
       "      <td>0</td>\n",
       "    </tr>\n",
       "    <tr>\n",
       "      <th>2</th>\n",
       "      <td>berlin-hotel-190599-review-4.json_16</td>\n",
       "      <td>As a general tip, if you need to use the internet whilst in Berlin, look up the Easy Internet cafes before you go, there's a huge one in Kurfurstendam</td>\n",
       "      <td>1</td>\n",
       "      <td>1</td>\n",
       "    </tr>\n",
       "    <tr>\n",
       "      <th>3</th>\n",
       "      <td>berlin-hotel-190599-review-4.json_22</td>\n",
       "      <td>If you expect no more than that, you won't be disappointed.</td>\n",
       "      <td>1</td>\n",
       "      <td>0</td>\n",
       "    </tr>\n",
       "    <tr>\n",
       "      <th>4</th>\n",
       "      <td>berlin-hotel-191437-review-1.json_2</td>\n",
       "      <td>Room was big, bath was lovely, but watch out for the tile floor after you shower.</td>\n",
       "      <td>1</td>\n",
       "      <td>0</td>\n",
       "    </tr>\n",
       "  </tbody>\n",
       "</table>\n",
       "</div>"
      ],
      "text/plain": [
       "                                   json  \\\n",
       "0  berlin-hotel-190599-review-2.json_8    \n",
       "1  berlin-hotel-190599-review-3.json_2    \n",
       "2  berlin-hotel-190599-review-4.json_16   \n",
       "3  berlin-hotel-190599-review-4.json_22   \n",
       "4  berlin-hotel-191437-review-1.json_2    \n",
       "\n",
       "                                                                                                                                                                                                 text  \\\n",
       "0  If you do end up here, be sure to specify a room at the back of the hotel.                                                                                                                           \n",
       "1  and I was woken by the early morning firing up of the local bus service (a courtyard-facing room is essential unless you have industrial strength earplugs.)The rooms are small and ill-conceived.   \n",
       "2  As a general tip, if you need to use the internet whilst in Berlin, look up the Easy Internet cafes before you go, there's a huge one in Kurfurstendam                                               \n",
       "3  If you expect no more than that, you won't be disappointed.                                                                                                                                          \n",
       "4  Room was big, bath was lovely, but watch out for the tile floor after you shower.                                                                                                                    \n",
       "\n",
       "   class  pred  \n",
       "0  1      0     \n",
       "1  1      0     \n",
       "2  1      1     \n",
       "3  1      0     \n",
       "4  1      0     "
      ]
     },
     "execution_count": 342,
     "metadata": {},
     "output_type": "execute_result"
    }
   ],
   "source": [
    "hotel_pred.head()"
   ]
  },
  {
   "cell_type": "code",
   "execution_count": 343,
   "metadata": {
    "collapsed": true
   },
   "outputs": [],
   "source": [
    "Y_test = hotel_pred['class'].values\n",
    "Y_pred = hotel_pred['pred'].values"
   ]
  },
  {
   "cell_type": "code",
   "execution_count": 344,
   "metadata": {
    "collapsed": false
   },
   "outputs": [
    {
     "name": "stdout",
     "output_type": "stream",
     "text": [
      "                precision    recall  f1-score   support\n",
      "\n",
      "Not Suggestion       0.97      0.87      0.91      7086\n",
      "    Suggestion       0.20      0.52      0.29       448\n",
      "\n",
      "   avg / total       0.92      0.85      0.88      7534\n",
      "\n"
     ]
    }
   ],
   "source": [
    "from sklearn.metrics import classification_report\n",
    "print(classification_report(Y_test, \n",
    "                            Y_pred, \n",
    "                            target_names=['Not Suggestion', 'Suggestion']))"
   ]
  },
  {
   "cell_type": "code",
   "execution_count": 345,
   "metadata": {
    "collapsed": false
   },
   "outputs": [
    {
     "data": {
      "text/plain": [
       "0.84563312981152106"
      ]
     },
     "execution_count": 345,
     "metadata": {},
     "output_type": "execute_result"
    }
   ],
   "source": [
    "from sklearn.metrics import accuracy_score\n",
    "accuracy_score(Y_test,Y_pred)"
   ]
  },
  {
   "cell_type": "code",
   "execution_count": 346,
   "metadata": {
    "collapsed": true
   },
   "outputs": [],
   "source": [
    "ho = hotel_pred.copy()"
   ]
  },
  {
   "cell_type": "code",
   "execution_count": 347,
   "metadata": {
    "collapsed": true
   },
   "outputs": [],
   "source": [
    "ho = ho[ho['class'] == 1]"
   ]
  },
  {
   "cell_type": "code",
   "execution_count": 349,
   "metadata": {
    "collapsed": true
   },
   "outputs": [],
   "source": [
    "Y_test = ho['class'].values\n",
    "Y_pred = ho['pred'].values"
   ]
  },
  {
   "cell_type": "code",
   "execution_count": 350,
   "metadata": {
    "collapsed": false
   },
   "outputs": [
    {
     "name": "stdout",
     "output_type": "stream",
     "text": [
      "                precision    recall  f1-score   support\n",
      "\n",
      "Not Suggestion       0.00      0.00      0.00         0\n",
      "    Suggestion       1.00      0.52      0.68       448\n",
      "\n",
      "   avg / total       1.00      0.52      0.68       448\n",
      "\n"
     ]
    }
   ],
   "source": [
    "from sklearn.metrics import classification_report\n",
    "print(classification_report(Y_test, \n",
    "                            Y_pred, \n",
    "                            target_names=['Not Suggestion', 'Suggestion']))"
   ]
  },
  {
   "cell_type": "code",
   "execution_count": 351,
   "metadata": {
    "collapsed": false
   },
   "outputs": [
    {
     "data": {
      "text/plain": [
       "0.5178571428571429"
      ]
     },
     "execution_count": 351,
     "metadata": {},
     "output_type": "execute_result"
    }
   ],
   "source": [
    "from sklearn.metrics import accuracy_score\n",
    "accuracy_score(Y_test,Y_pred)"
   ]
  },
  {
   "cell_type": "code",
   "execution_count": 352,
   "metadata": {
    "collapsed": true
   },
   "outputs": [],
   "source": [
    "hoho = hotel_pred.copy()"
   ]
  },
  {
   "cell_type": "code",
   "execution_count": 353,
   "metadata": {
    "collapsed": true
   },
   "outputs": [],
   "source": [
    "hoho = hoho[hoho['pred']==1]"
   ]
  },
  {
   "cell_type": "code",
   "execution_count": 357,
   "metadata": {
    "collapsed": true
   },
   "outputs": [],
   "source": [
    "Y_test = hoho['class'].values\n",
    "Y_pred = hoho['pred'].values"
   ]
  },
  {
   "cell_type": "code",
   "execution_count": 358,
   "metadata": {
    "collapsed": false
   },
   "outputs": [
    {
     "name": "stdout",
     "output_type": "stream",
     "text": [
      "                precision    recall  f1-score   support\n",
      "\n",
      "Not Suggestion       0.00      0.00      0.00       947\n",
      "    Suggestion       0.20      1.00      0.33       232\n",
      "\n",
      "   avg / total       0.04      0.20      0.06      1179\n",
      "\n"
     ]
    },
    {
     "name": "stderr",
     "output_type": "stream",
     "text": [
      "/home/sanju/anaconda2/lib/python2.7/site-packages/sklearn/metrics/classification.py:1113: UndefinedMetricWarning: Precision and F-score are ill-defined and being set to 0.0 in labels with no predicted samples.\n",
      "  'precision', 'predicted', average, warn_for)\n"
     ]
    }
   ],
   "source": [
    "from sklearn.metrics import classification_report\n",
    "print(classification_report(Y_test, \n",
    "                            Y_pred, \n",
    "                            target_names=['Not Suggestion', 'Suggestion']))"
   ]
  },
  {
   "cell_type": "code",
   "execution_count": 359,
   "metadata": {
    "collapsed": false
   },
   "outputs": [
    {
     "data": {
      "text/plain": [
       "0.19677692960135709"
      ]
     },
     "execution_count": 359,
     "metadata": {},
     "output_type": "execute_result"
    }
   ],
   "source": [
    "from sklearn.metrics import accuracy_score\n",
    "accuracy_score(Y_test,Y_pred)"
   ]
  },
  {
   "cell_type": "code",
   "execution_count": null,
   "metadata": {
    "collapsed": true
   },
   "outputs": [],
   "source": []
  }
 ],
 "metadata": {
  "kernelspec": {
   "display_name": "Python 2",
   "language": "python",
   "name": "python2"
  },
  "language_info": {
   "codemirror_mode": {
    "name": "ipython",
    "version": 2
   },
   "file_extension": ".py",
   "mimetype": "text/x-python",
   "name": "python",
   "nbconvert_exporter": "python",
   "pygments_lexer": "ipython2",
   "version": "2.7.13"
  }
 },
 "nbformat": 4,
 "nbformat_minor": 2
}
