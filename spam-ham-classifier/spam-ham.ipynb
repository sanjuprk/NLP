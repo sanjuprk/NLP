{
 "cells": [
  {
   "cell_type": "code",
   "execution_count": 29,
   "metadata": {
    "collapsed": true
   },
   "outputs": [],
   "source": [
    "from __future__ import print_function, division\n",
    "import nltk\n",
    "import os\n",
    "import random\n",
    "from collections import Counter\n",
    "from nltk import word_tokenize, WordNetLemmatizer\n",
    "from nltk.corpus import stopwords\n",
    "from nltk import NaiveBayesClassifier, classify"
   ]
  },
  {
   "cell_type": "code",
   "execution_count": 30,
   "metadata": {
    "collapsed": true
   },
   "outputs": [],
   "source": [
    "stoplist = stopwords.words('english')   #  words like ['is','this','at'...etc] are not going to be useful during classification , these are called stopwords\n",
    "\n",
    "def init_lists(folder):\n",
    "    a_list = []\n",
    "    file_list = os.listdir(folder)\n",
    "    for a_file in file_list:\n",
    "        f = open(folder + a_file, 'r')\n",
    "        a_list.append(f.read())\n",
    "    f.close()\n",
    "    return a_list   #  a_list contains the text of every email\n",
    "\n",
    "#preprocessing the data\n",
    "def preprocess(sentence):\n",
    "    lemmatizer = WordNetLemmatizer()   # lemmatization is converting strings like 'multiplying' to 'multiply'\n",
    "    return [lemmatizer.lemmatize(word.lower()) for word in word_tokenize(unicode(sentence, errors='ignore')) if not word in stoplist] \n",
    "            # lemmatize, convert to lower case, tokenize and then remove the stopwords\n",
    "\n",
    "\n",
    "#extracting the features\n",
    "def get_features(text, setting):\n",
    "    if setting=='bow': # using bag of words as the feature, returns number of times each word appears in the email/text.\n",
    "        return {word: count for word, count in Counter(preprocess(text)).items()}\n",
    "    else:\n",
    "        return {word: True for word in preprocess(text)}\n",
    "\n",
    "#training using naive bayes classifier\n",
    "def train(features, samples_proportion):\n",
    "    train_size = int(len(features) * samples_proportion)\n",
    "    # initialise the training and test sets\n",
    "    train_set, test_set = features[:train_size], features[train_size:]\n",
    "    #print ('Training set size = ' + str(len(train_set)) + ' emails')\n",
    "    #print ('Test set size = ' + str(len(test_set)) + ' emails')\n",
    "    # train the classifier\n",
    "    classifier = NaiveBayesClassifier.train(train_set)\n",
    "    return train_set, test_set, classifier\n",
    "\n",
    "#testing the model on test_set\n",
    "def evaluate(train_set, test_set, classifier):\n",
    "    # check how the classifier performs on the training and test sets\n",
    "    print ('Accuracy on the training set = ' + str(classify.accuracy(classifier, train_set)))\n",
    "    print ('Accuracy of the test set = ' + str(classify.accuracy(classifier, test_set)))\n",
    "    # check which words are most informative for the classifier\n",
    "    classifier.show_most_informative_features(20)"
   ]
  },
  {
   "cell_type": "code",
   "execution_count": 31,
   "metadata": {
    "collapsed": false
   },
   "outputs": [
    {
     "name": "stdout",
     "output_type": "stream",
     "text": [
      "Accuracy on the training set = 0.956963249516\n",
      "Accuracy of the test set = 0.942995169082\n",
      "Most Informative Features\n",
      "                    2004 = 1                spam : ham    =    103.1 : 1.0\n",
      "            prescription = 1                spam : ham    =     99.8 : 1.0\n",
      "                    2001 = 1                 ham : spam   =     90.2 : 1.0\n",
      "                     nom = 1                 ham : spam   =     88.7 : 1.0\n",
      "                    pain = 1                spam : ham    =     83.1 : 1.0\n",
      "                    spam = 1                spam : ham    =     76.3 : 1.0\n",
      "                   meter = 1                 ham : spam   =     72.1 : 1.0\n",
      "                     sex = 1                spam : ham    =     69.6 : 1.0\n",
      "                   super = 1                spam : ham    =     61.2 : 1.0\n",
      "                congress = 1                spam : ham    =     57.9 : 1.0\n",
      "                    sony = 1                spam : ham    =     57.9 : 1.0\n",
      "               complaint = 1                spam : ham    =     57.9 : 1.0\n",
      "             legislation = 1                spam : ham    =     56.3 : 1.0\n",
      "                     971 = 2                spam : ham    =     56.2 : 1.0\n",
      "                featured = 1                spam : ham    =     56.2 : 1.0\n",
      "                   cisco = 1                spam : ham    =     54.6 : 1.0\n",
      "              compliance = 1                spam : ham    =     52.9 : 1.0\n",
      "              nomination = 1                 ham : spam   =     52.1 : 1.0\n",
      "            solicitation = 1                spam : ham    =     51.2 : 1.0\n",
      "                deciding = 1                spam : ham    =     47.9 : 1.0\n"
     ]
    }
   ],
   "source": [
    "if __name__ == '__main__' :\n",
    "    # initialise the data\n",
    "    spam = init_lists('/home/sanju/Desktop/spam-classifier/data/spam/')\n",
    "    ham = init_lists('/home/sanju/Desktop/spam-classifier/data/ham/')\n",
    "    test = init_lists('/home/sanju/Desktop/spam-classifier/data/test/')\n",
    "    all_emails = [(email, 'spam') for email in spam]\n",
    "    all_emails += [(email, 'ham') for email in ham]\n",
    "    random.shuffle(all_emails)\n",
    "    #print ('Corpus size = ' + str(len(all_emails)) + ' emails')\n",
    "\n",
    "    # extract the features\n",
    "    all_features = [(get_features(email, 'bow'), label) for (email, label) in all_emails]\n",
    "    #print ('Collected ' + str(len(all_features)) + ' feature sets')\n",
    "\n",
    "    # train the classifier\n",
    "    \n",
    "    train_set, test_set, classifier = train(all_features, 0.8)\n",
    "\n",
    "    # evaluate its performance\n",
    "    evaluate(train_set, test_set, classifier)"
   ]
  },
  {
   "cell_type": "code",
   "execution_count": 32,
   "metadata": {
    "collapsed": false
   },
   "outputs": [],
   "source": [
    "predictions = []\n",
    "for email in test:\n",
    "    predict = classifier.classify(get_features(email,'bow'))\n",
    "    predictions.append(predict)"
   ]
  },
  {
   "cell_type": "code",
   "execution_count": 33,
   "metadata": {
    "collapsed": false
   },
   "outputs": [
    {
     "data": {
      "text/plain": [
       "['spam']"
      ]
     },
     "execution_count": 33,
     "metadata": {},
     "output_type": "execute_result"
    }
   ],
   "source": [
    "predictions"
   ]
  }
 ],
 "metadata": {
  "kernelspec": {
   "display_name": "Python 2",
   "language": "python",
   "name": "python2"
  },
  "language_info": {
   "codemirror_mode": {
    "name": "ipython",
    "version": 2
   },
   "file_extension": ".py",
   "mimetype": "text/x-python",
   "name": "python",
   "nbconvert_exporter": "python",
   "pygments_lexer": "ipython2",
   "version": "2.7.13"
  }
 },
 "nbformat": 4,
 "nbformat_minor": 2
}
